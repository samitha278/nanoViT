{
  "nbformat": 4,
  "nbformat_minor": 0,
  "metadata": {
    "colab": {
      "provenance": [],
      "authorship_tag": "ABX9TyOhi6SNxkio1kpEUwxCSECB",
      "include_colab_link": true
    },
    "kernelspec": {
      "name": "python3",
      "display_name": "Python 3"
    },
    "language_info": {
      "name": "python"
    }
  },
  "cells": [
    {
      "cell_type": "markdown",
      "metadata": {
        "id": "view-in-github",
        "colab_type": "text"
      },
      "source": [
        "<a href=\"https://colab.research.google.com/github/samitha278/nanoViT/blob/main/build_vit.ipynb\" target=\"_parent\"><img src=\"https://colab.research.google.com/assets/colab-badge.svg\" alt=\"Open In Colab\"/></a>"
      ]
    },
    {
      "cell_type": "code",
      "execution_count": 22,
      "metadata": {
        "id": "91bQi0AKG6DB"
      },
      "outputs": [],
      "source": [
        "import torch\n",
        "import torch.nn as nn\n",
        "import torch.nn.functional as F\n",
        "from torchvision import datasets, transforms\n",
        "from torch.utils.data import DataLoader\n",
        "\n",
        "from dataclasses import dataclass\n",
        "\n",
        "device = 'cuda' if torch.cuda.is_available() else 'cpu'"
      ]
    },
    {
      "cell_type": "code",
      "source": [
        "# create patches from image : ImageNet-1k\n",
        "\n",
        "# linear projection of patches\n",
        "\n",
        "# Emmbedding  patch + postional\n",
        "\n",
        "# transformer encoder * n\n",
        "\n",
        "#MLP\n"
      ],
      "metadata": {
        "id": "OpJA7-F_HGfr"
      },
      "execution_count": 2,
      "outputs": []
    },
    {
      "cell_type": "code",
      "source": [
        "batch_size = 32"
      ],
      "metadata": {
        "id": "5nBGWCVW-tVZ"
      },
      "execution_count": 3,
      "outputs": []
    },
    {
      "cell_type": "markdown",
      "source": [
        "## Getting data"
      ],
      "metadata": {
        "id": "BJv5BWwW8j_L"
      }
    },
    {
      "cell_type": "code",
      "source": [
        "transform_train = transforms.Compose([transforms.ToTensor()])\n",
        "\n",
        "train_dataset = datasets.MNIST(root='data', train=True, download=True, transform=transform_train)\n",
        "val_dataset = datasets.MNIST(root='data', train=False, download=True, transform=transform_train)\n",
        "\n",
        "\n",
        "train_data = DataLoader(train_dataset, batch_size=batch_size, shuffle=True)\n",
        "val_data = DataLoader(val_dataset, batch_size=batch_size, shuffle=True)"
      ],
      "metadata": {
        "id": "t2LgJ0rE8oW5",
        "colab": {
          "base_uri": "https://localhost:8080/"
        },
        "outputId": "91e3ceaf-d834-4b1f-ba01-a76d1a4de5b6"
      },
      "execution_count": 4,
      "outputs": [
        {
          "output_type": "stream",
          "name": "stderr",
          "text": [
            "100%|██████████| 9.91M/9.91M [00:00<00:00, 37.3MB/s]\n",
            "100%|██████████| 28.9k/28.9k [00:00<00:00, 1.03MB/s]\n",
            "100%|██████████| 1.65M/1.65M [00:00<00:00, 9.15MB/s]\n",
            "100%|██████████| 4.54k/4.54k [00:00<00:00, 7.19MB/s]\n"
          ]
        }
      ]
    },
    {
      "cell_type": "code",
      "source": [
        "i = 0\n",
        "for image , label in train_data:\n",
        "\n",
        "  if i==1:break\n",
        "  print(image.shape,label)\n",
        "  i+=1"
      ],
      "metadata": {
        "colab": {
          "base_uri": "https://localhost:8080/"
        },
        "id": "1dwgo71d-1e0",
        "outputId": "abd7da6d-6f4b-4b65-8e93-81da07036bfa"
      },
      "execution_count": 5,
      "outputs": [
        {
          "output_type": "stream",
          "name": "stdout",
          "text": [
            "torch.Size([32, 1, 28, 28]) tensor([1, 2, 6, 3, 6, 0, 2, 4, 9, 2, 7, 7, 2, 3, 3, 8, 7, 4, 3, 2, 5, 0, 1, 1,\n",
            "        8, 9, 3, 2, 3, 0, 1, 9])\n"
          ]
        }
      ]
    },
    {
      "cell_type": "markdown",
      "source": [
        "## Configuration\n",
        "\n"
      ],
      "metadata": {
        "id": "dgdNLXVaEF4D"
      }
    },
    {
      "cell_type": "code",
      "source": [
        "@dataclass\n",
        "class ViTConfig:\n",
        "  batch_size = 32\n",
        "  num_classes = 10\n",
        "  img_size = 28\n",
        "  patch_size = 7\n",
        "  n_patch = (img_size / patch_size) * (img_size / patch_size)\n",
        "\n",
        "  n_head = 4\n",
        "  n_layer = 4\n",
        "\n",
        "  n_embd = 32\n"
      ],
      "metadata": {
        "id": "UCEcY_fcDz-E"
      },
      "execution_count": 6,
      "outputs": []
    },
    {
      "cell_type": "markdown",
      "source": [
        "## Multihead Attention for Encoder"
      ],
      "metadata": {
        "id": "4bJnKXnujo7u"
      }
    },
    {
      "cell_type": "code",
      "source": [
        "class Attention(nn.Module):\n",
        "\n",
        "\n",
        "  def __init__(self,n_embd,n_head) :\n",
        "    super().__init__()\n",
        "\n",
        "    self.nh = n_head\n",
        "\n",
        "    self.w = nn.Linear(n_embd,3*n_embd)    # 3 * n_head * head_size\n",
        "    self.proj = nn.Linear(n_embd,n_embd)\n",
        "\n",
        "\n",
        "  def forward(self,x):\n",
        "\n",
        "    B,T,C = x.shape\n",
        "\n",
        "    wei = self.w(x)        # B,T, 3* C\n",
        "\n",
        "    k,q,v = torch.chunk(wei,3, dim = -1)      # each B,T,C\n",
        "\n",
        "    head_size = C//self.nh\n",
        "\n",
        "    key   = k.view(B, T, self.nh, head_size).transpose(1, 2)    # B, n_head, T, head_size\n",
        "    query = q.view(B, T, self.nh, head_size).transpose(1, 2)    # \"\"\n",
        "    value = v.view(B, T, self.nh, head_size).transpose(1, 2)\n",
        "\n",
        "\n",
        "    weight = ( query @ key.transpose(-1,-2) )  * (head_size ** -0.5)    #B,nh,T,T\n",
        "    weight = F.softmax(weight,dim = -1)\n",
        "\n",
        "    out = weight @ value      #B,nh,T,n_head\n",
        "\n",
        "    out.transpose(1,2)\n",
        "\n",
        "    out = self.proj(out.view(B,T,C))\n",
        "\n",
        "    return out\n",
        "\n",
        "\n"
      ],
      "metadata": {
        "id": "uOJBFlfLQIdr"
      },
      "execution_count": 7,
      "outputs": []
    },
    {
      "cell_type": "code",
      "source": [
        "x = torch.randn(32,8,128)\n",
        "\n",
        "attn = Attention(128,4)\n",
        "\n",
        "out = attn(x)"
      ],
      "metadata": {
        "id": "0DdVCr9YXPCI"
      },
      "execution_count": 8,
      "outputs": []
    },
    {
      "cell_type": "code",
      "source": [
        "out.shape"
      ],
      "metadata": {
        "colab": {
          "base_uri": "https://localhost:8080/"
        },
        "id": "4wWVEDleYoE8",
        "outputId": "1a420e4f-4690-4a68-d1af-95863b620661"
      },
      "execution_count": 9,
      "outputs": [
        {
          "output_type": "execute_result",
          "data": {
            "text/plain": [
              "torch.Size([32, 8, 128])"
            ]
          },
          "metadata": {},
          "execution_count": 9
        }
      ]
    },
    {
      "cell_type": "markdown",
      "source": [
        "### MLP"
      ],
      "metadata": {
        "id": "NGzlt2BkjxUY"
      }
    },
    {
      "cell_type": "code",
      "source": [
        "class MLP(nn.Module):\n",
        "\n",
        "\n",
        "  def __init__(self,n_embd):\n",
        "    super().__init__()\n",
        "\n",
        "\n",
        "    self.layer = nn.Linear(n_embd,4*n_embd)\n",
        "    self.gelu = nn.GELU()\n",
        "    self.proj = nn.Linear(4*n_embd,n_embd)\n",
        "\n",
        "\n",
        "\n",
        "  def forward(self,x):\n",
        "\n",
        "\n",
        "    x = self.gelu(self.layer(x))\n",
        "    x = self.proj(x)\n",
        "\n",
        "    return x"
      ],
      "metadata": {
        "id": "b2ClNsr_fmzS"
      },
      "execution_count": 10,
      "outputs": []
    },
    {
      "cell_type": "markdown",
      "source": [
        "## Block"
      ],
      "metadata": {
        "id": "8SDH0vigrL5R"
      }
    },
    {
      "cell_type": "code",
      "source": [
        "class Block(nn.Module):\n",
        "\n",
        "\n",
        "  def __init__(self,config):\n",
        "    super().__init__()\n",
        "\n",
        "\n",
        "\n",
        "    self.ln_1 = nn.LayerNorm(config.n_embd)\n",
        "    self.attn = Attention(config.n_embd,config.n_head)\n",
        "    self.ln_2 = nn.LayerNorm(config.n_embd)\n",
        "    self.mlp = MLP(config.n_embd)\n",
        "\n",
        "\n",
        "  def forward(self,x):\n",
        "\n",
        "    x = x + self.attn(self.ln_1(x))\n",
        "    x = x + self.mlp(self.ln_2(x))\n",
        "\n",
        "    return x\n",
        "\n"
      ],
      "metadata": {
        "id": "g_4tIqG0q6HX"
      },
      "execution_count": 11,
      "outputs": []
    },
    {
      "cell_type": "markdown",
      "source": [
        "## Patch Embedding"
      ],
      "metadata": {
        "id": "CtLwN2o7JLLq"
      }
    },
    {
      "cell_type": "code",
      "source": [
        "x = torch.randn((32,3,224,224))\n",
        "\n",
        "out = F.unfold(x,(16,16),stride=(16,16)).transpose(-1,-2)  #Unfold → flatten → [ R-values | G-values | B-values ] → length 768\n",
        "out.shape"
      ],
      "metadata": {
        "colab": {
          "base_uri": "https://localhost:8080/"
        },
        "id": "11bEDnYCgxjp",
        "outputId": "7e83e737-3895-40c3-dff0-0c766728c648"
      },
      "execution_count": 12,
      "outputs": [
        {
          "output_type": "execute_result",
          "data": {
            "text/plain": [
              "torch.Size([32, 196, 768])"
            ]
          },
          "metadata": {},
          "execution_count": 12
        }
      ]
    },
    {
      "cell_type": "code",
      "source": [
        "cls_token = nn.Parameter(torch.randn((768,)))\n",
        "cls_token.expand(32,1,-1).shape"
      ],
      "metadata": {
        "colab": {
          "base_uri": "https://localhost:8080/"
        },
        "id": "1lE-YsRI5zkf",
        "outputId": "9c49c43c-1ce7-4c1f-85eb-c0ba8b0ffbdf"
      },
      "execution_count": 13,
      "outputs": [
        {
          "output_type": "execute_result",
          "data": {
            "text/plain": [
              "torch.Size([32, 1, 768])"
            ]
          },
          "metadata": {},
          "execution_count": 13
        }
      ]
    },
    {
      "cell_type": "code",
      "source": [
        "class PatchEmbedding(nn.Module):\n",
        "\n",
        "\n",
        "\n",
        "  def __init__(self,config):\n",
        "    super().__init__()\n",
        "\n",
        "    self.config = config\n",
        "\n",
        "    self.n_patches = config.n_patch\n",
        "    self.patch_dim = config.im_channels* config.patch_size ** 2\n",
        "\n",
        "\n",
        "    #patch embedding\n",
        "    self.patch_embd = nn.Sequential(\n",
        "        nn.LayerNorm(self.patch_dim),\n",
        "        nn.Linear(self.patch_dim,config.n_embd),\n",
        "        nn.LayerNorm(config.n_embd)\n",
        "    )\n",
        "\n",
        "    #cls tokens\n",
        "    self.cls_token = nn.Parameter(torch.randn((config.n_embd,),device=device))\n",
        "\n",
        "    #possitional embedding\n",
        "    self.pos_embd = nn.Embedding(self.n_patches+1,config.n_embd)    # +1 for cls token\n",
        "\n",
        "\n",
        "\n",
        "\n",
        "\n",
        "  def forward(self,x):\n",
        "\n",
        "    B,C,H,W = x.shape\n",
        "\n",
        "    # B,C,H,W -> B, n_patches , patch_dim    # patch_dim = C* patch_size*patch_size\n",
        "\n",
        "    patch_size = self.config.patch_size\n",
        "\n",
        "    patches = F.unfold(x, patch_size, stride = patch_size).transpose(-1,-2)\n",
        "\n",
        "    #patch embedding\n",
        "    patch_embd = self.patch_embd(patches)        # B, n_patches , n_embd\n",
        "\n",
        "    #class token\n",
        "    class_tok = self.cls_token.expand(B,1,-1)     # B , 1 , n_embd\n",
        "\n",
        "\n",
        "    patch_embd = torch.cat((class_tok,patch_embd),dim =1 )    # B, n_patches +1  , n_embd\n",
        "\n",
        "    #positional embedding\n",
        "    pos_embd = self.pos_embd(torch.arange(0,self.n_patches+1,device = device))     # B, n_patches +1  , n_embd\n",
        "\n",
        "    out = patch_embd + pos_embd\n",
        "\n",
        "    return out\n",
        "\n",
        "\n"
      ],
      "metadata": {
        "id": "AEnGrda_JOuK"
      },
      "execution_count": 14,
      "outputs": []
    },
    {
      "cell_type": "code",
      "source": [
        "@dataclass\n",
        "class ViTConfig:\n",
        "  batch_size = 32\n",
        "  num_classes = 10\n",
        "  img_size = 224\n",
        "  im_channels = 3\n",
        "  patch_size = 16\n",
        "  n_patch = (img_size // patch_size) * (img_size // patch_size)\n",
        "\n",
        "  n_head = 4\n",
        "  n_layer = 4\n",
        "\n",
        "  n_embd = 1024"
      ],
      "metadata": {
        "id": "2-NkK9dvOunG"
      },
      "execution_count": 15,
      "outputs": []
    },
    {
      "cell_type": "code",
      "source": [
        "config = ViTConfig()"
      ],
      "metadata": {
        "id": "0aVkZlWLP5lN"
      },
      "execution_count": 16,
      "outputs": []
    },
    {
      "cell_type": "code",
      "source": [
        "x = torch.randn((32,3,224,224))\n",
        "\n",
        "patch_embd = PatchEmbedding(config)\n",
        "\n",
        "out = patch_embd(x)\n",
        "\n",
        "out.shape"
      ],
      "metadata": {
        "colab": {
          "base_uri": "https://localhost:8080/"
        },
        "id": "CY_JFTMwORVA",
        "outputId": "378add77-f0fd-4f75-c4ff-1704c4df05c8"
      },
      "execution_count": 17,
      "outputs": [
        {
          "output_type": "execute_result",
          "data": {
            "text/plain": [
              "torch.Size([32, 197, 1024])"
            ]
          },
          "metadata": {},
          "execution_count": 17
        }
      ]
    },
    {
      "cell_type": "markdown",
      "source": [
        "## ViT"
      ],
      "metadata": {
        "id": "lRAFTc2gSBoG"
      }
    },
    {
      "cell_type": "code",
      "source": [
        "class ViT(nn.Module):\n",
        "\n",
        "    def __init__(self,config):\n",
        "      super().__init__()\n",
        "\n",
        "\n",
        "      self.config = config\n",
        "\n",
        "      self.embd = PatchEmbedding(config)\n",
        "\n",
        "      self.block = nn.ModuleList([Block(config)  for i in range(config.n_layer)])\n",
        "\n",
        "\n",
        "      self.ln = nn.LayerNorm(config.n_embd)\n",
        "\n",
        "      self.layer = nn.Linear(config.n_embd,config.num_classes)\n",
        "\n",
        "\n",
        "\n",
        "\n",
        "\n",
        "    def forward(self,x,targets = None):\n",
        "\n",
        "      B,C,H,W = x.shape\n",
        "\n",
        "\n",
        "      #embedding\n",
        "      out =  self.embd(x)\n",
        "\n",
        "      #blocks\n",
        "      for block in self.block:\n",
        "        out = block(out)\n",
        "\n",
        "      #layer norm\n",
        "      out = self.ln(out)\n",
        "\n",
        "      #linear layer\n",
        "      logits = self.layer(out[:,0])\n",
        "\n",
        "\n",
        "      loss = None\n",
        "      if targets is not None:\n",
        "          loss = F.cross_entropy(logits, targets)\n",
        "\n",
        "      return logits, loss\n",
        "\n"
      ],
      "metadata": {
        "id": "YPGbgUVTIhjv"
      },
      "execution_count": 38,
      "outputs": []
    },
    {
      "cell_type": "code",
      "source": [
        "x = torch.randn((32,3,224,224))\n",
        "\n",
        "vit = ViT(config)\n",
        "\n",
        "out,loss = vit(x)\n",
        "\n",
        "out.shape"
      ],
      "metadata": {
        "colab": {
          "base_uri": "https://localhost:8080/"
        },
        "id": "FiQ0-ErXY0uV",
        "outputId": "8d0b572f-3d7e-400b-b076-7612bac63658"
      },
      "execution_count": 19,
      "outputs": [
        {
          "output_type": "execute_result",
          "data": {
            "text/plain": [
              "torch.Size([32, 10])"
            ]
          },
          "metadata": {},
          "execution_count": 19
        }
      ]
    },
    {
      "cell_type": "code",
      "source": [
        "@dataclass\n",
        "class ViTConfig:\n",
        "    batch_size: int = 32\n",
        "    num_classes: int = 10\n",
        "    img_size: int = 224\n",
        "    im_channels: int = 3\n",
        "    patch_size: int = 16\n",
        "\n",
        "    n_head: int = 4\n",
        "    n_layer: int = 4\n",
        "    n_embd: int = 768\n",
        "\n",
        "    @property\n",
        "    def n_patch(self):\n",
        "        return (self.img_size // self.patch_size) * (self.img_size // self.patch_size)\n"
      ],
      "metadata": {
        "id": "jIoLjUeZ3HB0"
      },
      "execution_count": 37,
      "outputs": []
    },
    {
      "cell_type": "code",
      "source": [
        "max_iter = 100\n",
        "lr = 3e-4\n",
        "\n",
        "\n",
        "torch.manual_seed(278)\n",
        "if torch.cuda.is_available():\n",
        "  torch.cuda.manual_seed(278)\n",
        "\n",
        "\n",
        "\n",
        "vit = ViT(ViTConfig(img_size=28,im_channels=1,patch_size=4))\n",
        "vit = vit.to(device)\n",
        "vit = torch.compile(vit)\n",
        "\n",
        "\n",
        "\n",
        "optimizer = torch.optim.AdamW(vit.parameters(), lr = lr )\n",
        "\n",
        "losses = torch.zeros((max_iter,))\n",
        "\n",
        "train_iter = iter(train_data)\n",
        "\n",
        "for i in range(max_iter):\n",
        "\n",
        "  xb,yb = next(train_iter)\n",
        "  xb , yb = xb.to(device),yb.to(device)\n",
        "\n",
        "  logits , loss = vit(xb,yb)\n",
        "\n",
        "  optimizer.zero_grad()\n",
        "  loss.backward()\n",
        "  optimizer.step()\n",
        "\n",
        "  losses[i] = loss.item()\n",
        "\n",
        "  if i%10==0 : print(f'{i}/{max_iter}   {loss.item()}')\n",
        "\n",
        "\n",
        "\n"
      ],
      "metadata": {
        "id": "W4a6j-s-Y_aE",
        "colab": {
          "base_uri": "https://localhost:8080/"
        },
        "outputId": "47cf979b-e2a7-4efb-e8e1-17f8e9c67d95"
      },
      "execution_count": 39,
      "outputs": [
        {
          "output_type": "stream",
          "name": "stdout",
          "text": [
            "0/100   2.1963953971862793\n",
            "10/100   2.7260947227478027\n",
            "20/100   2.0315542221069336\n",
            "30/100   1.3844249248504639\n",
            "40/100   1.2787163257598877\n",
            "50/100   0.9120548367500305\n",
            "60/100   1.3939018249511719\n",
            "70/100   1.0994621515274048\n",
            "80/100   0.7976328730583191\n",
            "90/100   0.8562922477722168\n"
          ]
        }
      ]
    },
    {
      "cell_type": "code",
      "source": [
        "import matplotlib.pyplot as plt\n",
        "\n",
        "plt.figure(figsize=(6,4))\n",
        "plt.plot(losses)\n",
        "plt.show()"
      ],
      "metadata": {
        "colab": {
          "base_uri": "https://localhost:8080/",
          "height": 368
        },
        "id": "qHrJg4sY8nQI",
        "outputId": "61315408-3bb4-473b-9432-9c2ed0c49d60"
      },
      "execution_count": 40,
      "outputs": [
        {
          "output_type": "display_data",
          "data": {
            "text/plain": [
              "<Figure size 600x400 with 1 Axes>"
            ],
            "image/png": "[encoded data removed]"
          },
          "metadata": {}
        }
      ]
    },
    {
      "cell_type": "code",
      "source": [],
      "metadata": {
        "id": "JmT1Du9ECjzL"
      },
      "execution_count": null,
      "outputs": []
    }
  ]
}