{
  "nbformat": 4,
  "nbformat_minor": 0,
  "metadata": {
    "colab": {
      "provenance": [],
      "authorship_tag": "ABX9TyNIRUEJH8fvNOVFqR9B7DM1",
      "include_colab_link": true
    },
    "kernelspec": {
      "name": "python3",
      "display_name": "Python 3"
    },
    "language_info": {
      "name": "python"
    }
  },
  "cells": [
    {
      "cell_type": "markdown",
      "metadata": {
        "id": "view-in-github",
        "colab_type": "text"
      },
      "source": [
        "<a href=\"https://colab.research.google.com/github/samitha278/nanoViT/blob/main/build_vit.ipynb\" target=\"_parent\"><img src=\"https://colab.research.google.com/assets/colab-badge.svg\" alt=\"Open In Colab\"/></a>"
      ]
    },
    {
      "cell_type": "code",
      "execution_count": 23,
      "metadata": {
        "id": "91bQi0AKG6DB"
      },
      "outputs": [],
      "source": [
        "import torch\n",
        "import torch.nn as nn\n",
        "import torch.nn.functional as F\n",
        "from torchvision import datasets, transforms\n",
        "from torch.utils.data import DataLoader\n",
        "\n",
        "from dataclasses import dataclass"
      ]
    },
    {
      "cell_type": "code",
      "source": [
        "# create patches from image : ImageNet-1k\n",
        "\n",
        "# linear projection of patches\n",
        "\n",
        "# Emmbedding  patch + postional\n",
        "\n",
        "# transformer encoder * n\n",
        "\n",
        "#MLP\n"
      ],
      "metadata": {
        "id": "OpJA7-F_HGfr"
      },
      "execution_count": 24,
      "outputs": []
    },
    {
      "cell_type": "code",
      "source": [
        "batch_size = 32"
      ],
      "metadata": {
        "id": "5nBGWCVW-tVZ"
      },
      "execution_count": 25,
      "outputs": []
    },
    {
      "cell_type": "markdown",
      "source": [
        "## Getting data"
      ],
      "metadata": {
        "id": "BJv5BWwW8j_L"
      }
    },
    {
      "cell_type": "code",
      "source": [
        "transform_train = transforms.Compose([transforms.ToTensor()])\n",
        "\n",
        "train_dataset = datasets.MNIST(root='data', train=True, download=True, transform=transform_train)\n",
        "val_dataset = datasets.MNIST(root='data', train=False, download=True, transform=transform_train)\n",
        "\n",
        "\n",
        "train_data = DataLoader(train_dataset, batch_size=batch_size, shuffle=True)\n",
        "val_data = DataLoader(val_dataset, batch_size=batch_size, shuffle=True)"
      ],
      "metadata": {
        "id": "t2LgJ0rE8oW5"
      },
      "execution_count": 26,
      "outputs": []
    },
    {
      "cell_type": "code",
      "source": [
        "i = 0\n",
        "for image , label in train_data:\n",
        "\n",
        "  if i==1:break\n",
        "  print(image.shape,label)\n",
        "  i+=1"
      ],
      "metadata": {
        "colab": {
          "base_uri": "https://localhost:8080/"
        },
        "id": "1dwgo71d-1e0",
        "outputId": "7d25fbd8-258c-451d-deb5-29386615a8f8"
      },
      "execution_count": 27,
      "outputs": [
        {
          "output_type": "stream",
          "name": "stdout",
          "text": [
            "torch.Size([32, 1, 28, 28]) tensor([3, 4, 3, 9, 4, 5, 9, 8, 7, 1, 2, 0, 7, 4, 9, 3, 3, 3, 8, 1, 5, 6, 1, 2,\n",
            "        9, 5, 0, 1, 7, 8, 5, 1])\n"
          ]
        }
      ]
    },
    {
      "cell_type": "markdown",
      "source": [
        "## Configuration\n",
        "\n"
      ],
      "metadata": {
        "id": "dgdNLXVaEF4D"
      }
    },
    {
      "cell_type": "code",
      "source": [
        "@dataclass\n",
        "class ViTConfig:\n",
        "  batch_size = 32\n",
        "  num_classes = 10\n",
        "  img_size = 28\n",
        "  patch_size = 7\n",
        "  n_patch = (img_size / patch_size) * (img_size / patch_size)\n",
        "\n",
        "  n_head = 4\n",
        "  n_layer = 4\n",
        "\n",
        "  n_embd = 32\n"
      ],
      "metadata": {
        "id": "UCEcY_fcDz-E"
      },
      "execution_count": 28,
      "outputs": []
    },
    {
      "cell_type": "markdown",
      "source": [
        "## Multihead Attention for Encoder"
      ],
      "metadata": {
        "id": "4bJnKXnujo7u"
      }
    },
    {
      "cell_type": "code",
      "source": [
        "class Attention(nn.Module):\n",
        "\n",
        "\n",
        "  def __init__(self,n_embd,n_head) :\n",
        "    super().__init__()\n",
        "\n",
        "    self.nh = n_head\n",
        "\n",
        "    self.w = nn.Linear(n_embd,3*n_embd)    # 3 * n_head * head_size\n",
        "    self.proj = nn.Linear(n_embd,n_embd)\n",
        "\n",
        "\n",
        "  def forward(self,x):\n",
        "\n",
        "    B,T,C = x.shape\n",
        "\n",
        "    wei = self.w(x)        # B,T, 3* C\n",
        "\n",
        "    k,q,v = torch.chunk(wei,3, dim = -1)      # each B,T,C\n",
        "\n",
        "    head_size = C//self.nh\n",
        "\n",
        "    key   = k.view(B, T, self.nh, head_size).transpose(1, 2)    # B, n_head, T, head_size\n",
        "    query = q.view(B, T, self.nh, head_size).transpose(1, 2)    # \"\"\n",
        "    value = v.view(B, T, self.nh, head_size).transpose(1, 2)\n",
        "\n",
        "\n",
        "    weight = ( query @ key.transpose(-1,-2) )  * (head_size ** -0.5)    #B,nh,T,T\n",
        "    weight = F.softmax(weight,dim = -1)\n",
        "\n",
        "    out = weight @ value      #B,nh,T,n_head\n",
        "\n",
        "    out.transpose(1,2)\n",
        "\n",
        "    out = self.proj(out.view(B,T,C))\n",
        "\n",
        "    return out\n",
        "\n",
        "\n"
      ],
      "metadata": {
        "id": "uOJBFlfLQIdr"
      },
      "execution_count": 29,
      "outputs": []
    },
    {
      "cell_type": "code",
      "source": [
        "x = torch.randn(32,8,128)\n",
        "\n",
        "attn = Attention(128,4)\n",
        "\n",
        "out = attn(x)"
      ],
      "metadata": {
        "id": "0DdVCr9YXPCI"
      },
      "execution_count": 30,
      "outputs": []
    },
    {
      "cell_type": "code",
      "source": [
        "out.shape"
      ],
      "metadata": {
        "colab": {
          "base_uri": "https://localhost:8080/"
        },
        "id": "4wWVEDleYoE8",
        "outputId": "9ca630cc-3351-4ea8-d234-4395b07326ba"
      },
      "execution_count": 31,
      "outputs": [
        {
          "output_type": "execute_result",
          "data": {
            "text/plain": [
              "torch.Size([32, 8, 128])"
            ]
          },
          "metadata": {},
          "execution_count": 31
        }
      ]
    },
    {
      "cell_type": "markdown",
      "source": [
        "### MLP"
      ],
      "metadata": {
        "id": "NGzlt2BkjxUY"
      }
    },
    {
      "cell_type": "code",
      "source": [
        "class MLP(nn.Module):\n",
        "\n",
        "\n",
        "  def __init__(self,n_embd):\n",
        "    super().__init__()\n",
        "\n",
        "\n",
        "    self.layer = nn.Linear(n_embd,4*n_embd)\n",
        "    self.gelu = nn.GELU()\n",
        "    self.proj = nn.Linear(4*n_embd,n_embd)\n",
        "\n",
        "\n",
        "\n",
        "  def forward(self,x):\n",
        "\n",
        "\n",
        "    x = self.gelu(self.layer(x))\n",
        "    x = self.proj(x)\n",
        "\n",
        "    return x"
      ],
      "metadata": {
        "id": "b2ClNsr_fmzS"
      },
      "execution_count": 32,
      "outputs": []
    },
    {
      "cell_type": "markdown",
      "source": [
        "## Block"
      ],
      "metadata": {
        "id": "8SDH0vigrL5R"
      }
    },
    {
      "cell_type": "code",
      "source": [
        "class Block(nn.Module):\n",
        "\n",
        "\n",
        "  def __init__(self,n_layer,n_embd,n_head):\n",
        "    super().__init__()\n",
        "\n",
        "\n",
        "    self.ln_1 = nn.LayerNorm(n_embd)\n",
        "    self.attn = Attention(n_embd,n_head)\n",
        "    self.ln_2 = nn.LayerNorm(n_embd)\n",
        "    self.mlp = MLP(n_embd)\n",
        "\n",
        "\n",
        "  def forward(self,x):\n",
        "\n",
        "    x = x + self.attn(self.ln_1(x))\n",
        "    x = x + self.mlp(self.ln_2(x))\n",
        "\n",
        "    return x\n",
        "\n"
      ],
      "metadata": {
        "id": "g_4tIqG0q6HX"
      },
      "execution_count": 33,
      "outputs": []
    },
    {
      "cell_type": "markdown",
      "source": [
        "## Patch Embedding"
      ],
      "metadata": {
        "id": "CtLwN2o7JLLq"
      }
    },
    {
      "cell_type": "code",
      "source": [
        "class PatchEmbedding(nn.Module):\n",
        "\n",
        "\n",
        "\n",
        "  def __init__(self,config):\n",
        "    super().__init__()\n",
        "\n",
        "    self.config = config\n",
        "\n",
        "    self.n_patches = (config.img_size // config.patch_size) ** 2\n",
        "    self.patch_dim = config.im_channels* config.patch_size ** 2\n",
        "\n",
        "\n",
        "    #patch embedding\n",
        "    self.patch_embd = nn.Sequential(\n",
        "        nn.LayerNorm(self.patch_dim),\n",
        "        nn.Linear(self.patch_dim,config.n_embd),\n",
        "        nn.LayerNorm(config.n_embd)\n",
        "    )\n",
        "\n",
        "    #cls tokens\n",
        "    self.cls_token = nn.Parameter(torch.randn((config.n_embd,)))\n",
        "\n",
        "    #possitional embedding\n",
        "    self.pos_embd = nn.Embedding(self.n_patches+1,config.n_embd)    # +1 for cls token\n",
        "\n",
        "\n",
        "\n",
        "\n",
        "\n",
        "def forward(self,x):\n",
        "\n",
        "  B,C,H,W = x.shape\n",
        "\n",
        "  # B,C,H,W -> B, n_patches , patch_dim    # patch_dim = C* patch_size*patch_size\n",
        "\n",
        "  patch_size = self.config.patch_size\n",
        "\n",
        "  patches = F.unfold(x, patch_size, stride = patch_size).transpose(-1,-2)\n",
        "\n",
        "  #patch embedding\n",
        "  patch_embd = self.patch_embd(patches)        # B, n_patches , n_embd\n",
        "\n",
        "  #class token\n",
        "  class_tok = self.cls_token.expand(B,1,-1)     # B , 1 , n_embd\n",
        "\n",
        "\n",
        "  patch_embd = torch.cat((class_tok,patch_embd),dim =1 )    # B, n_patches +1  , n_embd\n",
        "\n",
        "  #positional embedding\n",
        "  pos_embd = self.pos_embd(torch.arange(0,self.n_pathes+1))     # B, n_patches +1  , n_embd\n",
        "\n",
        "  out = patch_embd + pos_embd\n",
        "\n",
        "  return out\n",
        "\n",
        "\n",
        ""
      ],
      "metadata": {
        "id": "AEnGrda_JOuK"
      },
      "execution_count": 53,
      "outputs": []
    },
    {
      "cell_type": "code",
      "source": [
        "@dataclass\n",
        "class ViTConfig:\n",
        "  batch_size = 32\n",
        "  num_classes = 10\n",
        "  img_size = 28\n",
        "  patch_size = 7\n",
        "  n_patch = (img_size // patch_size) * (img_size // patch_size)\n",
        "\n",
        "  n_head = 4\n",
        "  n_layer = 4\n",
        "\n",
        "  n_embd = 32"
      ],
      "metadata": {
        "id": "2-NkK9dvOunG"
      },
      "execution_count": null,
      "outputs": []
    },
    {
      "cell_type": "code",
      "source": [
        "x = torch.randn((32,3,224,224))\n",
        "\n",
        "patch_embd = PatchEmbedding()"
      ],
      "metadata": {
        "id": "CY_JFTMwORVA"
      },
      "execution_count": null,
      "outputs": []
    },
    {
      "cell_type": "code",
      "source": [
        "x = torch.randn((32,3,224,224))\n",
        "\n",
        "out = F.unfold(x,(16,16),stride=(16,16)).transpose(-1,-2)  #Unfold → flatten → [ R-values | G-values | B-values ] → length 768\n",
        "out.shape"
      ],
      "metadata": {
        "colab": {
          "base_uri": "https://localhost:8080/"
        },
        "id": "11bEDnYCgxjp",
        "outputId": "83ec7e6b-a634-4b39-80d9-8c9e0a2d73ba"
      },
      "execution_count": 42,
      "outputs": [
        {
          "output_type": "execute_result",
          "data": {
            "text/plain": [
              "torch.Size([32, 196, 768])"
            ]
          },
          "metadata": {},
          "execution_count": 42
        }
      ]
    },
    {
      "cell_type": "code",
      "source": [
        "cls_token = nn.Parameter(torch.randn((768,)))\n",
        "cls_token.expand(32,1,-1).shape"
      ],
      "metadata": {
        "colab": {
          "base_uri": "https://localhost:8080/"
        },
        "id": "1lE-YsRI5zkf",
        "outputId": "7f28b593-f5bd-4f36-899e-d15781d4bf72"
      },
      "execution_count": 52,
      "outputs": [
        {
          "output_type": "execute_result",
          "data": {
            "text/plain": [
              "torch.Size([32, 1, 768])"
            ]
          },
          "metadata": {},
          "execution_count": 52
        }
      ]
    },
    {
      "cell_type": "code",
      "source": [],
      "metadata": {
        "id": "YPGbgUVTIhjv"
      },
      "execution_count": null,
      "outputs": []
    }
  ]
}