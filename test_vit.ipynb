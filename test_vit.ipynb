{
  "nbformat": 4,
  "nbformat_minor": 0,
  "metadata": {
    "colab": {
      "provenance": [],
      "gpuType": "T4",
      "authorship_tag": "ABX9TyMFWnDoKTwF+6d8Y0cPSn8+",
      "include_colab_link": true
    },
    "kernelspec": {
      "name": "python3",
      "display_name": "Python 3"
    },
    "language_info": {
      "name": "python"
    },
    "accelerator": "GPU"
  },
  "cells": [
    {
      "cell_type": "markdown",
      "metadata": {
        "id": "view-in-github",
        "colab_type": "text"
      },
      "source": [
        "<a href=\"https://colab.research.google.com/github/samitha278/nanoViT/blob/main/test_vit.ipynb\" target=\"_parent\"><img src=\"https://colab.research.google.com/assets/colab-badge.svg\" alt=\"Open In Colab\"/></a>"
      ]
    },
    {
      "cell_type": "code",
      "execution_count": 1,
      "metadata": {
        "id": "zfoCb8ajyB82"
      },
      "outputs": [],
      "source": [
        "import torch\n",
        "import torch.nn as nn\n",
        "import torch.nn.functional as F\n",
        "from torchvision import datasets, transforms\n",
        "from torch.utils.data import DataLoader\n",
        "\n",
        "import time\n",
        "import math\n",
        "import matplotlib.pyplot as plt\n",
        "\n",
        "from dataclasses import dataclass\n",
        "\n",
        "device = 'cuda' if torch.cuda.is_available() else 'cpu'"
      ]
    },
    {
      "cell_type": "markdown",
      "source": [
        "## ViT Model"
      ],
      "metadata": {
        "id": "-WT1HUrWyWhK"
      }
    },
    {
      "cell_type": "code",
      "source": [
        "@dataclass\n",
        "class Config:\n",
        "    num_classes: int = 10\n",
        "    img_size: int = 28         # For MNIST\n",
        "    im_channels: int = 1\n",
        "    patch_size: int = 4\n",
        "\n",
        "    n_head: int = 4\n",
        "    n_layer: int = 4\n",
        "    n_embd: int = 768\n",
        "\n",
        "    dropout = 0.2\n",
        "\n",
        "    @property\n",
        "    def n_patch(self):\n",
        "        return (self.img_size//self.patch_size)**2"
      ],
      "metadata": {
        "id": "kx3tp80m7j8v"
      },
      "execution_count": null,
      "outputs": []
    },
    {
      "cell_type": "code",
      "source": [
        "class ViT(nn.Module):\n",
        "\n",
        "    def __init__(self,config):\n",
        "      super().__init__()\n",
        "\n",
        "\n",
        "      self.config = config\n",
        "\n",
        "      self.embd = PatchEmbedding(config)\n",
        "\n",
        "      self.block = nn.ModuleList([Block(config)  for i in range(config.n_layer)])\n",
        "\n",
        "\n",
        "      self.ln = nn.LayerNorm(config.n_embd)\n",
        "\n",
        "      self.layer = nn.Linear(config.n_embd,config.num_classes)\n",
        "\n",
        "\n",
        "\n",
        "\n",
        "\n",
        "    def forward(self,x,targets = None):\n",
        "\n",
        "      B,C,H,W = x.shape\n",
        "\n",
        "\n",
        "      #embedding\n",
        "      out =  self.embd(x)\n",
        "\n",
        "      #blocks\n",
        "      for block in self.block:\n",
        "        out = block(out)\n",
        "\n",
        "      #layer norm\n",
        "      out = self.ln(out)\n",
        "\n",
        "      #linear layer\n",
        "      out = self.layer(out[:,0])\n",
        "\n",
        "\n",
        "      if targets is None:\n",
        "        return out\n",
        "      else:\n",
        "        return out,F.cross_entropy(out,targets.view(-1))\n",
        "\n",
        "\n",
        "\n",
        "#_______________________________________________________________________________\n",
        "\n",
        "\n",
        "class PatchEmbedding(nn.Module):\n",
        "\n",
        "\n",
        "\n",
        "  def __init__(self,config):\n",
        "    super().__init__()\n",
        "\n",
        "    self.config = config\n",
        "\n",
        "    self.n_patches = config.n_patch\n",
        "    self.patch_dim = config.im_channels* config.patch_size ** 2\n",
        "\n",
        "\n",
        "    #patch embedding\n",
        "    self.patch_embd = nn.Sequential(\n",
        "        nn.LayerNorm(self.patch_dim),\n",
        "        nn.Linear(self.patch_dim,config.n_embd),\n",
        "        nn.LayerNorm(config.n_embd)\n",
        "    )\n",
        "\n",
        "    #cls tokens\n",
        "    self.cls_token = nn.Parameter(torch.randn((config.n_embd,),device=device))\n",
        "\n",
        "    #possitional embedding\n",
        "    self.pos_embd = nn.Embedding(self.n_patches+1,config.n_embd)    # +1 for cls token\n",
        "\n",
        "\n",
        "\n",
        "\n",
        "\n",
        "  def forward(self,x):\n",
        "\n",
        "    B,C,H,W = x.shape\n",
        "\n",
        "    # B,C,H,W -> B, n_patches , patch_dim    # patch_dim = C* patch_size*patch_size\n",
        "\n",
        "    patch_size = self.config.patch_size\n",
        "\n",
        "    patches = F.unfold(x, patch_size, stride = patch_size).transpose(-1,-2)\n",
        "\n",
        "    #patch embedding\n",
        "    patch_embd = self.patch_embd(patches)        # B, n_patches , n_embd\n",
        "\n",
        "    #class token\n",
        "    class_tok = self.cls_token.expand(B,1,-1)     # B , 1 , n_embd\n",
        "\n",
        "\n",
        "    patch_embd = torch.cat((class_tok,patch_embd),dim =1 )    # B, n_patches +1  , n_embd\n",
        "\n",
        "    #positional embedding\n",
        "    pos_embd = self.pos_embd(torch.arange(0,self.n_patches+1,device=device))     # B, n_patches +1  , n_embd\n",
        "\n",
        "    out = patch_embd + pos_embd\n",
        "\n",
        "    return out\n",
        "\n",
        "\n",
        "\n",
        "\n",
        "\n",
        "#_______________________________________________________________________________\n",
        "\n",
        "\n",
        "\n",
        "class Block(nn.Module):\n",
        "\n",
        "\n",
        "  def __init__(self,config):\n",
        "    super().__init__()\n",
        "\n",
        "\n",
        "\n",
        "    self.ln_1 = nn.LayerNorm(config.n_embd)\n",
        "    self.attn = Attention(config.n_embd,config.n_head)\n",
        "    self.ln_2 = nn.LayerNorm(config.n_embd)\n",
        "    self.mlp = MLP(config.n_embd)\n",
        "\n",
        "\n",
        "  def forward(self,x):\n",
        "\n",
        "    x = x + self.attn(self.ln_1(x))\n",
        "    x = x + self.mlp(self.ln_2(x))\n",
        "\n",
        "    return x\n",
        "\n",
        "\n",
        "#_______________________________________________________________________________\n",
        "\n",
        "\n",
        "class MLP(nn.Module):\n",
        "\n",
        "\n",
        "  def __init__(self,n_embd):\n",
        "    super().__init__()\n",
        "\n",
        "\n",
        "    self.layer = nn.Linear(n_embd,4*n_embd)\n",
        "    self.gelu = nn.GELU()\n",
        "    self.proj = nn.Linear(4*n_embd,n_embd)\n",
        "    self.dropout = nn.Dropout(0.2)\n",
        "\n",
        "\n",
        "  def forward(self,x):\n",
        "\n",
        "\n",
        "    x = self.gelu(self.layer(x))\n",
        "    x = self.proj(x)\n",
        "    x = self.dropout(x)\n",
        "\n",
        "    return x\n",
        "\n",
        "\n",
        "#_______________________________________________________________________________\n",
        "\n",
        "\n",
        "class Attention(nn.Module):\n",
        "\n",
        "\n",
        "  def __init__(self,n_embd,n_head) :\n",
        "    super().__init__()\n",
        "\n",
        "    self.nh = n_head\n",
        "\n",
        "    self.w = nn.Linear(n_embd,3*n_embd)    # 3 * n_head * head_size\n",
        "    self.proj = nn.Linear(n_embd,n_embd)\n",
        "\n",
        "\n",
        "  def forward(self,x):\n",
        "\n",
        "    B,T,C = x.shape\n",
        "\n",
        "    wei = self.w(x)        # B,T, 3* C\n",
        "\n",
        "    k,q,v = torch.chunk(wei,3, dim = -1)      # each B,T,C\n",
        "\n",
        "    head_size = C//self.nh\n",
        "\n",
        "    key   = k.view(B, T, self.nh, head_size).transpose(1, 2)    # B, n_head, T, head_size\n",
        "    query = q.view(B, T, self.nh, head_size).transpose(1, 2)    # \"\"\n",
        "    value = v.view(B, T, self.nh, head_size).transpose(1, 2)\n",
        "\n",
        "\n",
        "    # weight = ( query @ key.transpose(-1,-2) )  * (head_size ** -0.5)    #B,nh,T,T\n",
        "    # weight = F.softmax(weight,dim = -1)\n",
        "\n",
        "    # out = weight @ value      #B,nh,T,n_head\n",
        "\n",
        "\n",
        "    #Flash Attention\n",
        "    out = F.scaled_dot_product_attention(query,key,value)\n",
        "\n",
        "\n",
        "\n",
        "    out = out.transpose(1,2).view(B,T,C)    #B,T,nh,n_head\n",
        "\n",
        "    out = self.proj(out)\n",
        "\n",
        "    return out\n",
        "\n"
      ],
      "metadata": {
        "id": "xgfVJjrVyWBw"
      },
      "execution_count": 2,
      "outputs": []
    },
    {
      "cell_type": "markdown",
      "source": [
        "# MNIST"
      ],
      "metadata": {
        "id": "_tZlXFxPp5bb"
      }
    },
    {
      "cell_type": "code",
      "source": [
        "transform_train = transforms.Compose([transforms.ToTensor()])\n",
        "\n",
        "train_dataset = datasets.MNIST(root='data', train=True, download=True, transform=transform_train)\n",
        "val_dataset = datasets.MNIST(root='data', train=False, download=True, transform=transform_train)\n"
      ],
      "metadata": {
        "id": "70RY2ivK_7l1"
      },
      "execution_count": null,
      "outputs": []
    },
    {
      "cell_type": "markdown",
      "source": [
        "# Train"
      ],
      "metadata": {
        "id": "-AffStBi_0sg"
      }
    },
    {
      "cell_type": "code",
      "source": [
        "torch.manual_seed(278)\n",
        "if torch.cuda.is_available():\n",
        "    torch.cuda.manual_seed(278)\n",
        "\n",
        "batch_size = 32\n",
        "\n",
        "\n",
        "train_data = DataLoader(train_dataset, batch_size=batch_size, shuffle=True)\n",
        "val_data = DataLoader(val_dataset, batch_size=batch_size, shuffle=True)"
      ],
      "metadata": {
        "id": "J439YmC6anDD"
      },
      "execution_count": null,
      "outputs": []
    },
    {
      "cell_type": "code",
      "source": [
        "torch.manual_seed(278)\n",
        "if torch.cuda.is_available():\n",
        "    torch.cuda.manual_seed(278)\n",
        "\n",
        "max_iter = 1000\n",
        "lr = 6e-4\n",
        "\n",
        "\n",
        "vit = ViT(Config())\n",
        "vit = vit.to(device)\n",
        "vit = torch.compile(vit)\n",
        "\n",
        "\n",
        "use_fused = True if torch.cuda.is_available() else False\n",
        "optimizer = torch.optim.AdamW(vit.parameters(),lr = lr,fused = use_fused)\n",
        "\n",
        "losses = torch.zeros((max_iter,))\n",
        "\n",
        "train_data_iter = iter(train_data)\n",
        "\n",
        "for i in range(max_iter):\n",
        "\n",
        "\n",
        "    t0 = time.time()\n",
        "\n",
        "    try:\n",
        "        xb,yb = next(train_data_iter)\n",
        "    except StopIteration:\n",
        "         train_data_iter = iter(train_data)   # reset\n",
        "         xb,yb = next(train_data_iter)\n",
        "\n",
        "    xb,yb = xb.to(device),yb.to(device)\n",
        "\n",
        "\n",
        "    logits , loss = vit(xb,yb)\n",
        "\n",
        "    optimizer.zero_grad()\n",
        "    loss.backward()\n",
        "    optimizer.step()\n",
        "\n",
        "    torch.cuda.synchronize() if torch.cuda.is_available() else None\n",
        "\n",
        "    t1 = time.time()\n",
        "    dt = (t1-t0) * 1000 # ms\n",
        "\n",
        "    losses[i] = loss.item()\n",
        "\n",
        "    if i%100 ==0 : print(f'{i}/{max_iter}  {loss.item():.4f}  {dt:.4f} ms')\n",
        "\n",
        "\n",
        "\n",
        "\n"
      ],
      "metadata": {
        "id": "fnq7abKo_0HE",
        "colab": {
          "base_uri": "https://localhost:8080/"
        },
        "outputId": "035111ea-9c34-47d6-d7b8-6b16d43df267"
      },
      "execution_count": null,
      "outputs": [
        {
          "output_type": "stream",
          "name": "stdout",
          "text": [
            "0/1000  2.2685  131.6884 ms\n",
            "100/1000  0.8162  88.0437 ms\n",
            "200/1000  0.9531  85.7632 ms\n",
            "300/1000  2.0218  89.4675 ms\n",
            "400/1000  0.7352  87.0714 ms\n",
            "500/1000  0.4921  83.8625 ms\n",
            "600/1000  0.7189  87.1720 ms\n",
            "700/1000  0.7873  88.3372 ms\n",
            "800/1000  0.9585  88.5544 ms\n",
            "900/1000  0.7969  86.7596 ms\n"
          ]
        }
      ]
    },
    {
      "cell_type": "code",
      "source": [
        "plt.figure(figsize=(6,4))\n",
        "plt.plot(losses)\n",
        "plt.show()"
      ],
      "metadata": {
        "colab": {
          "base_uri": "https://localhost:8080/",
          "height": 368
        },
        "id": "qfxXEr-yqXOE",
        "outputId": "911e4c3a-5ca4-47ae-9a23-73ae2137810e"
      },
      "execution_count": null,
      "outputs": [
        {
          "output_type": "display_data",
          "data": {
            "text/plain": [
              "<Figure size 600x400 with 1 Axes>"
            ],
            "image/png": "[encoded data removed]"
          },
          "metadata": {}
        }
      ]
    },
    {
      "cell_type": "markdown",
      "source": [
        "## Accuracy for full val_data"
      ],
      "metadata": {
        "id": "7tLDrsDItl2O"
      }
    },
    {
      "cell_type": "code",
      "source": [
        "torch.manual_seed(278)\n",
        "if torch.cuda.is_available():\n",
        "    torch.cuda.manual_seed(278)\n",
        "\n",
        "correct, total = 0, 0\n",
        "for xb, yb in val_data:\n",
        "    xb,yb = xb.to(device),yb.to(device)\n",
        "    logits = vit(xb)\n",
        "    preds = torch.argmax(logits, dim=-1)\n",
        "    correct += (preds == yb).sum().item()\n",
        "    total += yb.size(0)\n",
        "\n",
        "val_acc = correct / total\n",
        "print(f\"Validation accuracy: {val_acc:.4f}\")"
      ],
      "metadata": {
        "colab": {
          "base_uri": "https://localhost:8080/"
        },
        "id": "9cjXsWKLq4Iz",
        "outputId": "2aca2f4b-5169-47cc-c325-88ac30752116"
      },
      "execution_count": null,
      "outputs": [
        {
          "output_type": "stream",
          "name": "stdout",
          "text": [
            "Validation accuracy: 0.8095\n"
          ]
        }
      ]
    },
    {
      "cell_type": "markdown",
      "source": [
        "# CIFAR 10"
      ],
      "metadata": {
        "id": "-PkHWTVO7AER"
      }
    },
    {
      "cell_type": "code",
      "source": [
        "transform_train = transforms.Compose([transforms.ToTensor()])\n",
        "\n",
        "train_dataset = datasets.CIFAR10(root='data', train=True, download=True, transform=transform_train)\n",
        "val_dataset = datasets.CIFAR10(root='data', train=False, download=True, transform=transform_train)"
      ],
      "metadata": {
        "colab": {
          "base_uri": "https://localhost:8080/"
        },
        "id": "-ND7M2zgwngR",
        "outputId": "bbbf5ea0-fa16-4f63-8fb1-89a1d176eef5"
      },
      "execution_count": 3,
      "outputs": [
        {
          "output_type": "stream",
          "name": "stderr",
          "text": [
            "100%|██████████| 170M/170M [00:04<00:00, 35.2MB/s]\n"
          ]
        }
      ]
    },
    {
      "cell_type": "code",
      "source": [
        "torch.manual_seed(278)\n",
        "if torch.cuda.is_available():\n",
        "    torch.cuda.manual_seed(278)\n",
        "\n",
        "batch_size = 32\n",
        "\n",
        "\n",
        "train_data = DataLoader(train_dataset, batch_size=batch_size, shuffle=True)\n",
        "val_data = DataLoader(val_dataset, batch_size=batch_size, shuffle=True)"
      ],
      "metadata": {
        "id": "rKCfdy5L7YHH"
      },
      "execution_count": null,
      "outputs": []
    },
    {
      "cell_type": "code",
      "source": [
        "x,y = next(iter(train_data))\n",
        "\n",
        "x.shape,max(y)"
      ],
      "metadata": {
        "colab": {
          "base_uri": "https://localhost:8080/"
        },
        "id": "dOcmSro57wuN",
        "outputId": "f58dad74-5de4-4b1b-a0dd-f14731186a3f"
      },
      "execution_count": null,
      "outputs": [
        {
          "output_type": "execute_result",
          "data": {
            "text/plain": [
              "(torch.Size([32, 3, 32, 32]), tensor(9))"
            ]
          },
          "metadata": {},
          "execution_count": 13
        }
      ]
    },
    {
      "cell_type": "code",
      "source": [
        "@dataclass\n",
        "class Config:\n",
        "    num_classes: int = 10\n",
        "    img_size: int = 32         # For CIFAR\n",
        "    im_channels: int = 3\n",
        "    patch_size: int = 8\n",
        "\n",
        "    n_head: int = 4\n",
        "    n_layer: int = 4\n",
        "    n_embd: int = 768\n",
        "\n",
        "    dropout = 0.2\n",
        "\n",
        "    @property\n",
        "    def n_patch(self):\n",
        "        return (self.img_size//self.patch_size)**2"
      ],
      "metadata": {
        "id": "7228qDs18dM1"
      },
      "execution_count": null,
      "outputs": []
    },
    {
      "cell_type": "code",
      "source": [
        "torch.manual_seed(278)\n",
        "if torch.cuda.is_available():\n",
        "    torch.cuda.manual_seed(278)\n",
        "\n",
        "max_iter = 1000\n",
        "lr = 6e-4\n",
        "\n",
        "\n",
        "vit = ViT(Config())\n",
        "vit = vit.to(device)\n",
        "vit = torch.compile(vit)\n",
        "\n",
        "\n",
        "use_fused = True if torch.cuda.is_available() else False\n",
        "optimizer = torch.optim.AdamW(vit.parameters(),lr = lr,fused = use_fused)\n",
        "\n",
        "losses = torch.zeros((max_iter,))\n",
        "\n",
        "train_data_iter = iter(train_data)\n",
        "\n",
        "for i in range(max_iter):\n",
        "\n",
        "\n",
        "    t0 = time.time()\n",
        "\n",
        "    try:\n",
        "        xb,yb = next(train_data_iter)\n",
        "    except StopIteration:\n",
        "         train_data_iter = iter(train_data)   # reset\n",
        "         xb,yb = next(train_data_iter)\n",
        "\n",
        "    xb,yb = xb.to(device),yb.to(device)\n",
        "\n",
        "\n",
        "    logits , loss = vit(xb,yb)\n",
        "\n",
        "    optimizer.zero_grad()\n",
        "    loss.backward()\n",
        "    optimizer.step()\n",
        "\n",
        "    torch.cuda.synchronize() if torch.cuda.is_available() else None\n",
        "\n",
        "    t1 = time.time()\n",
        "    dt = (t1-t0) * 1000 # ms\n",
        "\n",
        "    losses[i] = loss.item()\n",
        "\n",
        "    if i%100 ==0 : print(f'{i}/{max_iter}  {loss.item():.4f}  {dt:.4f} ms')"
      ],
      "metadata": {
        "colab": {
          "base_uri": "https://localhost:8080/"
        },
        "id": "lTNIdLlz73Ab",
        "outputId": "386966f3-dff4-455b-8966-58cc5175b973"
      },
      "execution_count": null,
      "outputs": [
        {
          "output_type": "stream",
          "name": "stderr",
          "text": [
            "W0928 15:31:09.810000 174 torch/_inductor/utils.py:1436] [0/1] Not enough SMs to use max_autotune_gemm mode\n"
          ]
        },
        {
          "output_type": "stream",
          "name": "stdout",
          "text": [
            "0/1000  2.3342  51567.6496 ms\n",
            "100/1000  2.3094  40.5657 ms\n",
            "200/1000  2.1336  37.4801 ms\n",
            "300/1000  2.3655  38.1184 ms\n",
            "400/1000  1.8908  39.4473 ms\n",
            "500/1000  1.8144  38.4216 ms\n",
            "600/1000  1.7888  39.7465 ms\n",
            "700/1000  2.0120  39.7189 ms\n",
            "800/1000  1.7470  40.0531 ms\n",
            "900/1000  1.9166  40.8957 ms\n"
          ]
        }
      ]
    },
    {
      "cell_type": "code",
      "source": [
        "plt.figure(figsize=(6,4))\n",
        "plt.plot(losses)\n",
        "plt.show()"
      ],
      "metadata": {
        "colab": {
          "base_uri": "https://localhost:8080/",
          "height": 368
        },
        "id": "-bYgP4ul8HVi",
        "outputId": "22cab44b-10ad-4223-a904-fcc147098511"
      },
      "execution_count": null,
      "outputs": [
        {
          "output_type": "display_data",
          "data": {
            "text/plain": [
              "<Figure size 600x400 with 1 Axes>"
            ],
            "image/png": "[encoded data removed]"
          },
          "metadata": {}
        }
      ]
    },
    {
      "cell_type": "markdown",
      "source": [
        "## Accuracy for full val_data"
      ],
      "metadata": {
        "id": "OpkyfP4F8Kzz"
      }
    },
    {
      "cell_type": "code",
      "source": [
        "torch.manual_seed(278)\n",
        "if torch.cuda.is_available():\n",
        "    torch.cuda.manual_seed(278)\n",
        "\n",
        "correct, total = 0, 0\n",
        "for xb, yb in val_data:\n",
        "    xb,yb = xb.to(device),yb.to(device)\n",
        "    logits = vit(xb)\n",
        "    preds = torch.argmax(logits, dim=-1)\n",
        "    correct += (preds == yb).sum().item()\n",
        "    total += yb.size(0)\n",
        "\n",
        "val_acc = correct / total\n",
        "print(f\"Validation accuracy: {val_acc:.4f}\")"
      ],
      "metadata": {
        "colab": {
          "base_uri": "https://localhost:8080/"
        },
        "id": "05RQ-5_k8LhC",
        "outputId": "e959e97b-e0d6-4988-f9fd-0c0c10e455c8"
      },
      "execution_count": null,
      "outputs": [
        {
          "output_type": "stream",
          "name": "stdout",
          "text": [
            "Validation accuracy: 0.2684\n"
          ]
        }
      ]
    },
    {
      "cell_type": "markdown",
      "source": [
        "## Improving : LR Schedule , Weight Decay , Gradient Clipping"
      ],
      "metadata": {
        "id": "kaIHEUmAaEnk"
      }
    },
    {
      "cell_type": "code",
      "source": [
        "@dataclass\n",
        "class Config:\n",
        "    num_classes: int = 10\n",
        "    img_size: int = 32         # For CIFAR\n",
        "    im_channels: int = 3\n",
        "    patch_size: int = 8        # try chaniging\n",
        "\n",
        "    n_head: int = 4\n",
        "    n_layer: int = 4\n",
        "    n_embd: int = 768\n",
        "\n",
        "    dropout = 0.2\n",
        "\n",
        "    @property\n",
        "    def n_patch(self):\n",
        "        return (self.img_size//self.patch_size)**2"
      ],
      "metadata": {
        "id": "3ro8_CjSezBl"
      },
      "execution_count": 4,
      "outputs": []
    },
    {
      "cell_type": "code",
      "source": [
        "torch.manual_seed(278)\n",
        "if torch.cuda.is_available():\n",
        "    torch.cuda.manual_seed(278)\n",
        "\n",
        "batch_size = 32\n",
        "\n",
        "\n",
        "train_data = DataLoader(train_dataset, batch_size=batch_size, shuffle=True)\n",
        "val_data = DataLoader(val_dataset, batch_size=batch_size, shuffle=True)"
      ],
      "metadata": {
        "id": "TA8WaoABe2OI"
      },
      "execution_count": 5,
      "outputs": []
    },
    {
      "cell_type": "code",
      "source": [
        "torch.manual_seed(278)\n",
        "if torch.cuda.is_available():\n",
        "    torch.cuda.manual_seed(278)\n",
        "\n",
        "\n",
        "\n",
        "\n",
        "vit = ViT(Config())\n",
        "vit = vit.to(device)\n",
        "vit = torch.compile(vit)\n",
        "\n",
        "\n",
        "#------------------------------------------------------------------------------4\n",
        "\n",
        "max_iter = 1000\n",
        "warm_up = max_iter *0.05\n",
        "max_lr = 6e-4\n",
        "min_lr = max_lr * 0.1\n",
        "\n",
        "\n",
        "\n",
        "def get_lr(i):\n",
        "\n",
        "    if i < warm_up:\n",
        "        return (max_lr/warm_up) * (i+1)\n",
        "\n",
        "    if i>max_iter :\n",
        "        return min_lr\n",
        "\n",
        "    # cosine decay\n",
        "    diff = max_lr - min_lr\n",
        "    steps = max_iter - warm_up\n",
        "    lr = (diff/2) * math.cos(i * (math.pi / steps)) + diff\n",
        "    return lr\n",
        "\n",
        "\n",
        "#------------------------------------------------------------------------------\n",
        "\n",
        "\n",
        "losses = torch.zeros((max_iter,))\n",
        "lrs = torch.zeros((max_iter,))\n",
        "norms = torch.zeros((max_iter,))\n",
        "\n",
        "\n",
        "\n",
        "# Optimizer\n",
        "use_fused = True if torch.cuda.is_available() else False\n",
        "optimizer = torch.optim.AdamW(vit.parameters(),lr = max_lr,weight_decay = 0.1,fused = use_fused)\n",
        "\n",
        "\n",
        "train_data_iter = iter(train_data)\n",
        "\n",
        "for i in range(max_iter):\n",
        "\n",
        "\n",
        "    t0 = time.time()\n",
        "\n",
        "    try:\n",
        "        xb,yb = next(train_data_iter)\n",
        "    except StopIteration:\n",
        "         train_data_iter = iter(train_data)   # reset\n",
        "         xb,yb = next(train_data_iter)\n",
        "\n",
        "    xb,yb = xb.to(device),yb.to(device)\n",
        "\n",
        "\n",
        "    logits , loss = vit(xb,yb)\n",
        "\n",
        "    optimizer.zero_grad()\n",
        "    loss.backward()\n",
        "\n",
        "\n",
        "    # LR Schedule\n",
        "    lr = get_lr(i)\n",
        "    for param_group in optimizer.param_groups:\n",
        "        param_group['lr'] = lr\n",
        "\n",
        "    # Gradient Clipping\n",
        "    norm = torch.nn.utils.clip_grad_norm_(vit.parameters(),1.0)\n",
        "\n",
        "    optimizer.step()\n",
        "\n",
        "    torch.cuda.synchronize() if torch.cuda.is_available() else None\n",
        "\n",
        "    t1 = time.time()\n",
        "    dt = (t1-t0) * 1000 # ms\n",
        "\n",
        "    losses[i] = loss.item()\n",
        "    lrs[i] = lr\n",
        "    norms[i] = norm\n",
        "\n",
        "    if i%100 ==0 : print(f'{i}/{max_iter}  {loss.item():.4f}  {dt:.4f} ms   norm:{norm.item():.4f}   lr:{lr:.4e}')"
      ],
      "metadata": {
        "id": "JYya5zOF9eLw",
        "colab": {
          "base_uri": "https://localhost:8080/"
        },
        "outputId": "c28b1c28-e70d-432f-dbf1-96d2a1125233"
      },
      "execution_count": 7,
      "outputs": [
        {
          "output_type": "stream",
          "name": "stderr",
          "text": [
            "W0929 17:23:38.043000 686 torch/_inductor/utils.py:1436] [0/0] Not enough SMs to use max_autotune_gemm mode\n"
          ]
        },
        {
          "output_type": "stream",
          "name": "stdout",
          "text": [
            "0/1000  2.3342  23087.0581 ms   norm:7.0133   lr:1.2000e-05\n",
            "100/1000  2.4822  37.9224 ms   norm:7.2206   lr:7.9537e-04\n",
            "200/1000  2.5106  40.9629 ms   norm:6.9095   lr:7.5307e-04\n",
            "300/1000  2.3512  37.1890 ms   norm:7.1988   lr:6.8768e-04\n",
            "400/1000  1.9129  38.3921 ms   norm:5.2334   lr:6.0628e-04\n",
            "500/1000  1.8971  36.9473 ms   norm:5.1916   lr:5.1770e-04\n",
            "600/1000  1.8100  37.8897 ms   norm:3.7129   lr:4.3154e-04\n",
            "700/1000  1.9884  37.7500 ms   norm:3.8145   lr:3.5713e-04\n",
            "800/1000  1.8460  40.1011 ms   norm:3.9867   lr:3.0254e-04\n",
            "900/1000  1.8357  37.7097 ms   norm:3.8326   lr:2.7368e-04\n"
          ]
        }
      ]
    },
    {
      "cell_type": "code",
      "source": [
        "plt.figure(figsize=(6,4))\n",
        "plt.plot(losses)\n",
        "plt.show()"
      ],
      "metadata": {
        "colab": {
          "base_uri": "https://localhost:8080/",
          "height": 368
        },
        "id": "QDtKbLr4e-0E",
        "outputId": "9567500c-4f8e-425b-a734-c79583d72b6a"
      },
      "execution_count": 8,
      "outputs": [
        {
          "output_type": "display_data",
          "data": {
            "text/plain": [
              "<Figure size 600x400 with 1 Axes>"
            ],
            "image/png": "[encoded data removed]"
          },
          "metadata": {}
        }
      ]
    },
    {
      "cell_type": "code",
      "source": [
        "plt.figure(figsize=(6,4))\n",
        "plt.plot(norms)\n",
        "plt.show()"
      ],
      "metadata": {
        "colab": {
          "base_uri": "https://localhost:8080/",
          "height": 368
        },
        "id": "Zqlnuw4We_oj",
        "outputId": "40ce258d-1874-42af-824f-56e4a3cbfffc"
      },
      "execution_count": 9,
      "outputs": [
        {
          "output_type": "display_data",
          "data": {
            "text/plain": [
              "<Figure size 600x400 with 1 Axes>"
            ],
            "image/png": "[encoded data removed]"
          },
          "metadata": {}
        }
      ]
    },
    {
      "cell_type": "code",
      "source": [
        "plt.figure(figsize=(6,4))\n",
        "plt.plot(lrs)\n",
        "plt.show()"
      ],
      "metadata": {
        "colab": {
          "base_uri": "https://localhost:8080/",
          "height": 368
        },
        "id": "mjf3pr2OfZ18",
        "outputId": "aba7f679-05a5-49ee-9ce9-d12661a66a80"
      },
      "execution_count": 10,
      "outputs": [
        {
          "output_type": "display_data",
          "data": {
            "text/plain": [
              "<Figure size 600x400 with 1 Axes>"
            ],
            "image/png": "[encoded data removed]"
          },
          "metadata": {}
        }
      ]
    },
    {
      "cell_type": "markdown",
      "source": [
        "## Accuracy for full val_data"
      ],
      "metadata": {
        "id": "oLCS3hVhfhGX"
      }
    },
    {
      "cell_type": "code",
      "source": [
        "torch.manual_seed(278)\n",
        "if torch.cuda.is_available():\n",
        "    torch.cuda.manual_seed(278)\n",
        "\n",
        "correct, total = 0, 0\n",
        "for xb, yb in val_data:\n",
        "    xb,yb = xb.to(device),yb.to(device)\n",
        "    logits = vit(xb)\n",
        "    preds = torch.argmax(logits, dim=-1)\n",
        "    correct += (preds == yb).sum().item()\n",
        "    total += yb.size(0)\n",
        "\n",
        "val_acc = correct / total\n",
        "print(f\"Validation accuracy: {val_acc:.4f}\")"
      ],
      "metadata": {
        "colab": {
          "base_uri": "https://localhost:8080/"
        },
        "id": "3UpEofRTfhf2",
        "outputId": "78c51ac5-d77e-4d7d-93a6-025317d405f1"
      },
      "execution_count": 11,
      "outputs": [
        {
          "output_type": "stream",
          "name": "stdout",
          "text": [
            "Validation accuracy: 0.2956\n"
          ]
        }
      ]
    },
    {
      "cell_type": "code",
      "source": [],
      "metadata": {
        "id": "R9spV_2IghMO"
      },
      "execution_count": null,
      "outputs": []
    }
  ]
}