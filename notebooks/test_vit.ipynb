{
  "nbformat": 4,
  "nbformat_minor": 0,
  "metadata": {
    "colab": {
      "provenance": [],
      "gpuType": "T4",
      "authorship_tag": "ABX9TyP8NgJlfMmbaMLcmNZTHLVh",
      "include_colab_link": true
    },
    "kernelspec": {
      "name": "python3",
      "display_name": "Python 3"
    },
    "language_info": {
      "name": "python"
    },
    "accelerator": "GPU"
  },
  "cells": [
    {
      "cell_type": "markdown",
      "metadata": {
        "id": "view-in-github",
        "colab_type": "text"
      },
      "source": [
        "<a href=\"https://colab.research.google.com/github/samitha278/nanoViT/blob/main/test_vit.ipynb\" target=\"_parent\"><img src=\"https://colab.research.google.com/assets/colab-badge.svg\" alt=\"Open In Colab\"/></a>"
      ]
    },
    {
      "cell_type": "code",
      "execution_count": 1,
      "metadata": {
        "id": "zfoCb8ajyB82"
      },
      "outputs": [],
      "source": [
        "import torch\n",
        "import torch.nn as nn\n",
        "import torch.nn.functional as F\n",
        "from torchvision import datasets, transforms\n",
        "from torch.utils.data import DataLoader\n",
        "\n",
        "import time\n",
        "import math\n",
        "import matplotlib.pyplot as plt\n",
        "\n",
        "from dataclasses import dataclass\n",
        "\n",
        "device = 'cuda' if torch.cuda.is_available() else 'cpu'"
      ]
    },
    {
      "cell_type": "markdown",
      "source": [
        "## ViT Model"
      ],
      "metadata": {
        "id": "-WT1HUrWyWhK"
      }
    },
    {
      "cell_type": "code",
      "source": [
        "@dataclass\n",
        "class Config:\n",
        "    num_classes: int = 10\n",
        "    img_size: int = 28         # For MNIST\n",
        "    im_channels: int = 1\n",
        "    patch_size: int = 4\n",
        "\n",
        "    n_head: int = 4\n",
        "    n_layer: int = 4\n",
        "    n_embd: int = 768\n",
        "\n",
        "    dropout = 0.2\n",
        "\n",
        "    @property\n",
        "    def n_patch(self):\n",
        "        return (self.img_size//self.patch_size)**2"
      ],
      "metadata": {
        "id": "kx3tp80m7j8v"
      },
      "execution_count": 2,
      "outputs": []
    },
    {
      "cell_type": "code",
      "source": [
        "class ViT(nn.Module):\n",
        "\n",
        "    def __init__(self,config):\n",
        "      super().__init__()\n",
        "\n",
        "\n",
        "      self.config = config\n",
        "\n",
        "      self.embd = PatchEmbedding(config)\n",
        "\n",
        "      self.block = nn.ModuleList([Block(config)  for i in range(config.n_layer)])\n",
        "\n",
        "\n",
        "      self.ln = nn.LayerNorm(config.n_embd)\n",
        "\n",
        "      self.layer = nn.Linear(config.n_embd,config.num_classes)\n",
        "\n",
        "\n",
        "\n",
        "\n",
        "\n",
        "    def forward(self,x,targets = None):\n",
        "\n",
        "      B,C,H,W = x.shape\n",
        "\n",
        "\n",
        "      #embedding\n",
        "      out =  self.embd(x)\n",
        "\n",
        "      #blocks\n",
        "      for block in self.block:\n",
        "        out = block(out)\n",
        "\n",
        "      #layer norm\n",
        "      out = self.ln(out)\n",
        "\n",
        "      #linear layer\n",
        "      out = self.layer(out[:,0])\n",
        "\n",
        "\n",
        "      if targets is None:\n",
        "        return out\n",
        "      else:\n",
        "        return out,F.cross_entropy(out,targets.view(-1))\n",
        "\n",
        "\n",
        "\n",
        "#_______________________________________________________________________________\n",
        "\n",
        "\n",
        "class PatchEmbedding(nn.Module):\n",
        "\n",
        "\n",
        "\n",
        "  def __init__(self,config):\n",
        "    super().__init__()\n",
        "\n",
        "    self.config = config\n",
        "\n",
        "    self.n_patches = config.n_patch\n",
        "    self.patch_dim = config.im_channels* config.patch_size ** 2\n",
        "\n",
        "\n",
        "    #patch embedding\n",
        "    self.patch_embd = nn.Sequential(\n",
        "        nn.LayerNorm(self.patch_dim),\n",
        "        nn.Linear(self.patch_dim,config.n_embd),\n",
        "        nn.LayerNorm(config.n_embd)\n",
        "    )\n",
        "\n",
        "    #cls tokens\n",
        "    self.cls_token = nn.Parameter(torch.randn((config.n_embd,),device=device))\n",
        "\n",
        "    #possitional embedding\n",
        "    self.pos_embd = nn.Embedding(self.n_patches+1,config.n_embd)    # +1 for cls token\n",
        "\n",
        "\n",
        "\n",
        "\n",
        "\n",
        "  def forward(self,x):\n",
        "\n",
        "    B,C,H,W = x.shape\n",
        "\n",
        "    # B,C,H,W -> B, n_patches , patch_dim    # patch_dim = C* patch_size*patch_size\n",
        "\n",
        "    patch_size = self.config.patch_size\n",
        "\n",
        "    patches = F.unfold(x, patch_size, stride = patch_size).transpose(-1,-2)\n",
        "\n",
        "    #patch embedding\n",
        "    patch_embd = self.patch_embd(patches)        # B, n_patches , n_embd\n",
        "\n",
        "    #class token\n",
        "    class_tok = self.cls_token.expand(B,1,-1)     # B , 1 , n_embd\n",
        "\n",
        "\n",
        "    patch_embd = torch.cat((class_tok,patch_embd),dim =1 )    # B, n_patches +1  , n_embd\n",
        "\n",
        "    #positional embedding\n",
        "    pos_embd = self.pos_embd(torch.arange(0,self.n_patches+1,device=device))     # B, n_patches +1  , n_embd\n",
        "\n",
        "    out = patch_embd + pos_embd\n",
        "\n",
        "    return out\n",
        "\n",
        "\n",
        "\n",
        "\n",
        "\n",
        "#_______________________________________________________________________________\n",
        "\n",
        "\n",
        "\n",
        "class Block(nn.Module):\n",
        "\n",
        "\n",
        "  def __init__(self,config):\n",
        "    super().__init__()\n",
        "\n",
        "\n",
        "\n",
        "    self.ln_1 = nn.LayerNorm(config.n_embd)\n",
        "    self.attn = Attention(config.n_embd,config.n_head)\n",
        "    self.ln_2 = nn.LayerNorm(config.n_embd)\n",
        "    self.mlp = MLP(config.n_embd)\n",
        "\n",
        "\n",
        "  def forward(self,x):\n",
        "\n",
        "    x = x + self.attn(self.ln_1(x))\n",
        "    x = x + self.mlp(self.ln_2(x))\n",
        "\n",
        "    return x\n",
        "\n",
        "\n",
        "#_______________________________________________________________________________\n",
        "\n",
        "\n",
        "class MLP(nn.Module):\n",
        "\n",
        "\n",
        "  def __init__(self,n_embd):\n",
        "    super().__init__()\n",
        "\n",
        "\n",
        "    self.layer = nn.Linear(n_embd,4*n_embd)\n",
        "    self.gelu = nn.GELU()\n",
        "    self.proj = nn.Linear(4*n_embd,n_embd)\n",
        "    self.dropout = nn.Dropout(0.2)\n",
        "\n",
        "\n",
        "  def forward(self,x):\n",
        "\n",
        "\n",
        "    x = self.gelu(self.layer(x))\n",
        "    x = self.proj(x)\n",
        "    x = self.dropout(x)\n",
        "\n",
        "    return x\n",
        "\n",
        "\n",
        "#_______________________________________________________________________________\n",
        "\n",
        "\n",
        "class Attention(nn.Module):\n",
        "\n",
        "\n",
        "  def __init__(self,n_embd,n_head) :\n",
        "    super().__init__()\n",
        "\n",
        "    self.nh = n_head\n",
        "\n",
        "    self.w = nn.Linear(n_embd,3*n_embd)    # 3 * n_head * head_size\n",
        "    self.proj = nn.Linear(n_embd,n_embd)\n",
        "\n",
        "\n",
        "  def forward(self,x):\n",
        "\n",
        "    B,T,C = x.shape\n",
        "\n",
        "    wei = self.w(x)        # B,T, 3* C\n",
        "\n",
        "    k,q,v = torch.chunk(wei,3, dim = -1)      # each B,T,C\n",
        "\n",
        "    head_size = C//self.nh\n",
        "\n",
        "    key   = k.view(B, T, self.nh, head_size).transpose(1, 2)    # B, n_head, T, head_size\n",
        "    query = q.view(B, T, self.nh, head_size).transpose(1, 2)    # \"\"\n",
        "    value = v.view(B, T, self.nh, head_size).transpose(1, 2)\n",
        "\n",
        "\n",
        "    # weight = ( query @ key.transpose(-1,-2) )  * (head_size ** -0.5)    #B,nh,T,T\n",
        "    # weight = F.softmax(weight,dim = -1)\n",
        "\n",
        "    # out = weight @ value      #B,nh,T,n_head\n",
        "\n",
        "\n",
        "    #Flash Attention\n",
        "    out = F.scaled_dot_product_attention(query,key,value)\n",
        "\n",
        "\n",
        "\n",
        "    out = out.transpose(1,2).view(B,T,C)    #B,T,nh,n_head\n",
        "\n",
        "    out = self.proj(out)\n",
        "\n",
        "    return out\n",
        "\n"
      ],
      "metadata": {
        "id": "xgfVJjrVyWBw"
      },
      "execution_count": 2,
      "outputs": []
    },
    {
      "cell_type": "code",
      "source": [
        "model = ViT(Config())\n",
        "sum([p.numel() for p in model.parameters()])"
      ],
      "metadata": {
        "colab": {
          "base_uri": "https://localhost:8080/"
        },
        "id": "tdItUcj8Gms4",
        "outputId": "0de85fcb-3671-4ce8-d323-1ae8ffeaff9a"
      },
      "execution_count": 5,
      "outputs": [
        {
          "output_type": "execute_result",
          "data": {
            "text/plain": [
              "28414506"
            ]
          },
          "metadata": {},
          "execution_count": 5
        }
      ]
    },
    {
      "cell_type": "markdown",
      "source": [
        "# MNIST"
      ],
      "metadata": {
        "id": "_tZlXFxPp5bb"
      }
    },
    {
      "cell_type": "code",
      "source": [
        "transform_train = transforms.Compose([transforms.ToTensor()])\n",
        "\n",
        "train_dataset = datasets.MNIST(root='data', train=True, download=True, transform=transform_train)\n",
        "val_dataset = datasets.MNIST(root='data', train=False, download=True, transform=transform_train)\n"
      ],
      "metadata": {
        "id": "70RY2ivK_7l1"
      },
      "execution_count": null,
      "outputs": []
    },
    {
      "cell_type": "markdown",
      "source": [
        "# Train"
      ],
      "metadata": {
        "id": "-AffStBi_0sg"
      }
    },
    {
      "cell_type": "code",
      "source": [
        "torch.manual_seed(278)\n",
        "if torch.cuda.is_available():\n",
        "    torch.cuda.manual_seed(278)\n",
        "\n",
        "batch_size = 32\n",
        "\n",
        "\n",
        "train_data = DataLoader(train_dataset, batch_size=batch_size, shuffle=True)\n",
        "val_data = DataLoader(val_dataset, batch_size=batch_size, shuffle=True)"
      ],
      "metadata": {
        "id": "J439YmC6anDD"
      },
      "execution_count": null,
      "outputs": []
    },
    {
      "cell_type": "code",
      "source": [
        "torch.manual_seed(278)\n",
        "if torch.cuda.is_available():\n",
        "    torch.cuda.manual_seed(278)\n",
        "\n",
        "max_iter = 1000\n",
        "lr = 6e-4\n",
        "\n",
        "\n",
        "vit = ViT(Config())\n",
        "vit = vit.to(device)\n",
        "vit = torch.compile(vit)\n",
        "\n",
        "\n",
        "use_fused = True if torch.cuda.is_available() else False\n",
        "optimizer = torch.optim.AdamW(vit.parameters(),lr = lr,fused = use_fused)\n",
        "\n",
        "losses = torch.zeros((max_iter,))\n",
        "\n",
        "train_data_iter = iter(train_data)\n",
        "\n",
        "for i in range(max_iter):\n",
        "\n",
        "\n",
        "    t0 = time.time()\n",
        "\n",
        "    try:\n",
        "        xb,yb = next(train_data_iter)\n",
        "    except StopIteration:\n",
        "         train_data_iter = iter(train_data)   # reset\n",
        "         xb,yb = next(train_data_iter)\n",
        "\n",
        "    xb,yb = xb.to(device),yb.to(device)\n",
        "\n",
        "\n",
        "    logits , loss = vit(xb,yb)\n",
        "\n",
        "    optimizer.zero_grad()\n",
        "    loss.backward()\n",
        "    optimizer.step()\n",
        "\n",
        "    torch.cuda.synchronize() if torch.cuda.is_available() else None\n",
        "\n",
        "    t1 = time.time()\n",
        "    dt = (t1-t0) * 1000 # ms\n",
        "\n",
        "    losses[i] = loss.item()\n",
        "\n",
        "    if i%100 ==0 : print(f'{i}/{max_iter}  {loss.item():.4f}  {dt:.4f} ms')\n",
        "\n",
        "\n",
        "\n",
        "\n"
      ],
      "metadata": {
        "id": "fnq7abKo_0HE",
        "colab": {
          "base_uri": "https://localhost:8080/"
        },
        "outputId": "035111ea-9c34-47d6-d7b8-6b16d43df267"
      },
      "execution_count": null,
      "outputs": [
        {
          "output_type": "stream",
          "name": "stdout",
          "text": [
            "0/1000  2.2685  131.6884 ms\n",
            "100/1000  0.8162  88.0437 ms\n",
            "200/1000  0.9531  85.7632 ms\n",
            "300/1000  2.0218  89.4675 ms\n",
            "400/1000  0.7352  87.0714 ms\n",
            "500/1000  0.4921  83.8625 ms\n",
            "600/1000  0.7189  87.1720 ms\n",
            "700/1000  0.7873  88.3372 ms\n",
            "800/1000  0.9585  88.5544 ms\n",
            "900/1000  0.7969  86.7596 ms\n"
          ]
        }
      ]
    },
    {
      "cell_type": "code",
      "source": [
        "plt.figure(figsize=(6,4))\n",
        "plt.plot(losses)\n",
        "plt.show()"
      ],
      "metadata": {
        "colab": {
          "base_uri": "https://localhost:8080/",
          "height": 368
        },
        "id": "qfxXEr-yqXOE",
        "outputId": "911e4c3a-5ca4-47ae-9a23-73ae2137810e"
      },
      "execution_count": null,
      "outputs": [
        {
          "output_type": "display_data",
          "data": {
            "text/plain": [
              "<Figure size 600x400 with 1 Axes>"
            ],
            "image/png": "[encoded data removed]"
          },
          "metadata": {}
        }
      ]
    },
    {
      "cell_type": "markdown",
      "source": [
        "## Accuracy for full val_data"
      ],
      "metadata": {
        "id": "7tLDrsDItl2O"
      }
    },
    {
      "cell_type": "code",
      "source": [
        "torch.manual_seed(278)\n",
        "if torch.cuda.is_available():\n",
        "    torch.cuda.manual_seed(278)\n",
        "\n",
        "correct, total = 0, 0\n",
        "for xb, yb in val_data:\n",
        "    xb,yb = xb.to(device),yb.to(device)\n",
        "    logits = vit(xb)\n",
        "    preds = torch.argmax(logits, dim=-1)\n",
        "    correct += (preds == yb).sum().item()\n",
        "    total += yb.size(0)\n",
        "\n",
        "val_acc = correct / total\n",
        "print(f\"Validation accuracy: {val_acc:.4f}\")"
      ],
      "metadata": {
        "colab": {
          "base_uri": "https://localhost:8080/"
        },
        "id": "9cjXsWKLq4Iz",
        "outputId": "2aca2f4b-5169-47cc-c325-88ac30752116"
      },
      "execution_count": null,
      "outputs": [
        {
          "output_type": "stream",
          "name": "stdout",
          "text": [
            "Validation accuracy: 0.8095\n"
          ]
        }
      ]
    },
    {
      "cell_type": "markdown",
      "source": [
        "# CIFAR 10"
      ],
      "metadata": {
        "id": "-PkHWTVO7AER"
      }
    },
    {
      "cell_type": "code",
      "source": [
        "transform_train = transforms.Compose([transforms.ToTensor()])\n",
        "\n",
        "train_dataset = datasets.CIFAR10(root='data', train=True, download=True, transform=transform_train)\n",
        "val_dataset = datasets.CIFAR10(root='data', train=False, download=True, transform=transform_train)"
      ],
      "metadata": {
        "colab": {
          "base_uri": "https://localhost:8080/"
        },
        "id": "-ND7M2zgwngR",
        "outputId": "15365047-f79f-4696-dab7-5aa30cc61bcc"
      },
      "execution_count": 3,
      "outputs": [
        {
          "output_type": "stream",
          "name": "stderr",
          "text": [
            "100%|██████████| 170M/170M [00:20<00:00, 8.19MB/s]\n"
          ]
        }
      ]
    },
    {
      "cell_type": "code",
      "source": [
        "torch.manual_seed(278)\n",
        "if torch.cuda.is_available():\n",
        "    torch.cuda.manual_seed(278)\n",
        "\n",
        "batch_size = 32\n",
        "\n",
        "\n",
        "train_data = DataLoader(train_dataset, batch_size=batch_size, shuffle=True)\n",
        "val_data = DataLoader(val_dataset, batch_size=batch_size, shuffle=True)"
      ],
      "metadata": {
        "id": "rKCfdy5L7YHH"
      },
      "execution_count": null,
      "outputs": []
    },
    {
      "cell_type": "code",
      "source": [
        "x,y = next(iter(train_data))\n",
        "\n",
        "x.shape,max(y)"
      ],
      "metadata": {
        "colab": {
          "base_uri": "https://localhost:8080/"
        },
        "id": "dOcmSro57wuN",
        "outputId": "f58dad74-5de4-4b1b-a0dd-f14731186a3f"
      },
      "execution_count": null,
      "outputs": [
        {
          "output_type": "execute_result",
          "data": {
            "text/plain": [
              "(torch.Size([32, 3, 32, 32]), tensor(9))"
            ]
          },
          "metadata": {},
          "execution_count": 13
        }
      ]
    },
    {
      "cell_type": "code",
      "source": [
        "@dataclass\n",
        "class Config:\n",
        "    num_classes: int = 10\n",
        "    img_size: int = 32         # For CIFAR\n",
        "    im_channels: int = 3\n",
        "    patch_size: int = 8\n",
        "\n",
        "    n_head: int = 4\n",
        "    n_layer: int = 4\n",
        "    n_embd: int = 768\n",
        "\n",
        "    dropout = 0.2\n",
        "\n",
        "    @property\n",
        "    def n_patch(self):\n",
        "        return (self.img_size//self.patch_size)**2"
      ],
      "metadata": {
        "id": "7228qDs18dM1"
      },
      "execution_count": 6,
      "outputs": []
    },
    {
      "cell_type": "code",
      "source": [
        "model = ViT(Config())\n",
        "sum([p.numel() for p in model.parameters()])"
      ],
      "metadata": {
        "colab": {
          "base_uri": "https://localhost:8080/"
        },
        "id": "1joV_na_HCyR",
        "outputId": "6a8955ae-1521-4751-beac-8dcd41d75a5c"
      },
      "execution_count": 7,
      "outputs": [
        {
          "output_type": "execute_result",
          "data": {
            "text/plain": [
              "28524682"
            ]
          },
          "metadata": {},
          "execution_count": 7
        }
      ]
    },
    {
      "cell_type": "code",
      "source": [
        "torch.manual_seed(278)\n",
        "if torch.cuda.is_available():\n",
        "    torch.cuda.manual_seed(278)\n",
        "\n",
        "max_iter = 1000\n",
        "lr = 6e-4\n",
        "\n",
        "\n",
        "vit = ViT(Config())\n",
        "vit = vit.to(device)\n",
        "vit = torch.compile(vit)\n",
        "\n",
        "\n",
        "use_fused = True if torch.cuda.is_available() else False\n",
        "optimizer = torch.optim.AdamW(vit.parameters(),lr = lr,fused = use_fused)\n",
        "\n",
        "losses = torch.zeros((max_iter,))\n",
        "\n",
        "train_data_iter = iter(train_data)\n",
        "\n",
        "for i in range(max_iter):\n",
        "\n",
        "\n",
        "    t0 = time.time()\n",
        "\n",
        "    try:\n",
        "        xb,yb = next(train_data_iter)\n",
        "    except StopIteration:\n",
        "         train_data_iter = iter(train_data)   # reset\n",
        "         xb,yb = next(train_data_iter)\n",
        "\n",
        "    xb,yb = xb.to(device),yb.to(device)\n",
        "\n",
        "\n",
        "    logits , loss = vit(xb,yb)\n",
        "\n",
        "    optimizer.zero_grad()\n",
        "    loss.backward()\n",
        "    optimizer.step()\n",
        "\n",
        "    torch.cuda.synchronize() if torch.cuda.is_available() else None\n",
        "\n",
        "    t1 = time.time()\n",
        "    dt = (t1-t0) * 1000 # ms\n",
        "\n",
        "    losses[i] = loss.item()\n",
        "\n",
        "    if i%100 ==0 : print(f'{i}/{max_iter}  {loss.item():.4f}  {dt:.4f} ms')"
      ],
      "metadata": {
        "colab": {
          "base_uri": "https://localhost:8080/"
        },
        "id": "lTNIdLlz73Ab",
        "outputId": "386966f3-dff4-455b-8966-58cc5175b973"
      },
      "execution_count": null,
      "outputs": [
        {
          "output_type": "stream",
          "name": "stderr",
          "text": [
            "W0928 15:31:09.810000 174 torch/_inductor/utils.py:1436] [0/1] Not enough SMs to use max_autotune_gemm mode\n"
          ]
        },
        {
          "output_type": "stream",
          "name": "stdout",
          "text": [
            "0/1000  2.3342  51567.6496 ms\n",
            "100/1000  2.3094  40.5657 ms\n",
            "200/1000  2.1336  37.4801 ms\n",
            "300/1000  2.3655  38.1184 ms\n",
            "400/1000  1.8908  39.4473 ms\n",
            "500/1000  1.8144  38.4216 ms\n",
            "600/1000  1.7888  39.7465 ms\n",
            "700/1000  2.0120  39.7189 ms\n",
            "800/1000  1.7470  40.0531 ms\n",
            "900/1000  1.9166  40.8957 ms\n"
          ]
        }
      ]
    },
    {
      "cell_type": "code",
      "source": [
        "plt.figure(figsize=(6,4))\n",
        "plt.plot(losses)\n",
        "plt.show()"
      ],
      "metadata": {
        "colab": {
          "base_uri": "https://localhost:8080/",
          "height": 368
        },
        "id": "-bYgP4ul8HVi",
        "outputId": "22cab44b-10ad-4223-a904-fcc147098511"
      },
      "execution_count": null,
      "outputs": [
        {
          "output_type": "display_data",
          "data": {
            "text/plain": [
              "<Figure size 600x400 with 1 Axes>"
            ],
            "image/png": "[encoded data removed]"
          },
          "metadata": {}
        }
      ]
    },
    {
      "cell_type": "markdown",
      "source": [
        "## Accuracy for full val_data"
      ],
      "metadata": {
        "id": "OpkyfP4F8Kzz"
      }
    },
    {
      "cell_type": "code",
      "source": [
        "torch.manual_seed(278)\n",
        "if torch.cuda.is_available():\n",
        "    torch.cuda.manual_seed(278)\n",
        "\n",
        "correct, total = 0, 0\n",
        "for xb, yb in val_data:\n",
        "    xb,yb = xb.to(device),yb.to(device)\n",
        "    logits = vit(xb)\n",
        "    preds = torch.argmax(logits, dim=-1)\n",
        "    correct += (preds == yb).sum().item()\n",
        "    total += yb.size(0)\n",
        "\n",
        "val_acc = correct / total\n",
        "print(f\"Validation accuracy: {val_acc:.4f}\")"
      ],
      "metadata": {
        "colab": {
          "base_uri": "https://localhost:8080/"
        },
        "id": "05RQ-5_k8LhC",
        "outputId": "e959e97b-e0d6-4988-f9fd-0c0c10e455c8"
      },
      "execution_count": null,
      "outputs": [
        {
          "output_type": "stream",
          "name": "stdout",
          "text": [
            "Validation accuracy: 0.2684\n"
          ]
        }
      ]
    },
    {
      "cell_type": "markdown",
      "source": [
        "## Improving : LR Schedule , Weight Decay , Gradient Clipping"
      ],
      "metadata": {
        "id": "kaIHEUmAaEnk"
      }
    },
    {
      "cell_type": "code",
      "source": [
        "@dataclass\n",
        "class Config:\n",
        "    num_classes: int = 10\n",
        "    img_size: int = 32         # For CIFAR\n",
        "    im_channels: int = 3\n",
        "    patch_size: int = 8        # try chaniging\n",
        "\n",
        "    n_head: int = 4\n",
        "    n_layer: int = 4\n",
        "    n_embd: int = 768\n",
        "\n",
        "    dropout = 0.2\n",
        "\n",
        "    @property\n",
        "    def n_patch(self):\n",
        "        return (self.img_size//self.patch_size)**2"
      ],
      "metadata": {
        "id": "3ro8_CjSezBl"
      },
      "execution_count": null,
      "outputs": []
    },
    {
      "cell_type": "code",
      "source": [
        "torch.manual_seed(278)\n",
        "if torch.cuda.is_available():\n",
        "    torch.cuda.manual_seed(278)\n",
        "\n",
        "batch_size = 32\n",
        "\n",
        "\n",
        "train_data = DataLoader(train_dataset, batch_size=batch_size, shuffle=True)\n",
        "val_data = DataLoader(val_dataset, batch_size=batch_size, shuffle=True)"
      ],
      "metadata": {
        "id": "TA8WaoABe2OI"
      },
      "execution_count": null,
      "outputs": []
    },
    {
      "cell_type": "code",
      "source": [
        "torch.manual_seed(278)\n",
        "if torch.cuda.is_available():\n",
        "    torch.cuda.manual_seed(278)\n",
        "\n",
        "\n",
        "\n",
        "\n",
        "vit = ViT(Config())\n",
        "vit = vit.to(device)\n",
        "vit = torch.compile(vit)\n",
        "\n",
        "\n",
        "#------------------------------------------------------------------------------4\n",
        "\n",
        "max_iter = 1000\n",
        "warm_up = max_iter *0.05\n",
        "max_lr = 6e-4\n",
        "min_lr = max_lr * 0.1\n",
        "\n",
        "\n",
        "\n",
        "def get_lr(i):\n",
        "\n",
        "    if i < warm_up:\n",
        "        return (max_lr/warm_up) * (i+1)\n",
        "\n",
        "    if i>max_iter :\n",
        "        return min_lr\n",
        "\n",
        "    # cosine decay\n",
        "    diff = max_lr - min_lr\n",
        "    steps = max_iter - warm_up\n",
        "    lr = (diff/2) * math.cos(i * (math.pi / steps)) + diff\n",
        "    return lr\n",
        "\n",
        "\n",
        "#------------------------------------------------------------------------------\n",
        "\n",
        "\n",
        "losses = torch.zeros((max_iter,))\n",
        "lrs = torch.zeros((max_iter,))\n",
        "norms = torch.zeros((max_iter,))\n",
        "\n",
        "\n",
        "\n",
        "# Optimizer\n",
        "use_fused = True if torch.cuda.is_available() else False\n",
        "optimizer = torch.optim.AdamW(vit.parameters(),lr = max_lr,weight_decay = 0.1,fused = use_fused)\n",
        "\n",
        "\n",
        "train_data_iter = iter(train_data)\n",
        "\n",
        "for i in range(max_iter):\n",
        "\n",
        "\n",
        "    t0 = time.time()\n",
        "\n",
        "    try:\n",
        "        xb,yb = next(train_data_iter)\n",
        "    except StopIteration:\n",
        "         train_data_iter = iter(train_data)   # reset\n",
        "         xb,yb = next(train_data_iter)\n",
        "\n",
        "    xb,yb = xb.to(device),yb.to(device)\n",
        "\n",
        "\n",
        "    logits , loss = vit(xb,yb)\n",
        "\n",
        "    optimizer.zero_grad()\n",
        "    loss.backward()\n",
        "\n",
        "\n",
        "    # LR Schedule\n",
        "    lr = get_lr(i)\n",
        "    for param_group in optimizer.param_groups:\n",
        "        param_group['lr'] = lr\n",
        "\n",
        "    # Gradient Clipping\n",
        "    norm = torch.nn.utils.clip_grad_norm_(vit.parameters(),1.0)\n",
        "\n",
        "    optimizer.step()\n",
        "\n",
        "    torch.cuda.synchronize() if torch.cuda.is_available() else None\n",
        "\n",
        "    t1 = time.time()\n",
        "    dt = (t1-t0) * 1000 # ms\n",
        "\n",
        "    losses[i] = loss.item()\n",
        "    lrs[i] = lr\n",
        "    norms[i] = norm\n",
        "\n",
        "    if i%100 ==0 : print(f'{i}/{max_iter}  {loss.item():.4f}  {dt:.4f} ms   norm:{norm.item():.4f}   lr:{lr:.4e}')"
      ],
      "metadata": {
        "id": "JYya5zOF9eLw",
        "colab": {
          "base_uri": "https://localhost:8080/"
        },
        "outputId": "c28b1c28-e70d-432f-dbf1-96d2a1125233"
      },
      "execution_count": null,
      "outputs": [
        {
          "output_type": "stream",
          "name": "stderr",
          "text": [
            "W0929 17:23:38.043000 686 torch/_inductor/utils.py:1436] [0/0] Not enough SMs to use max_autotune_gemm mode\n"
          ]
        },
        {
          "output_type": "stream",
          "name": "stdout",
          "text": [
            "0/1000  2.3342  23087.0581 ms   norm:7.0133   lr:1.2000e-05\n",
            "100/1000  2.4822  37.9224 ms   norm:7.2206   lr:7.9537e-04\n",
            "200/1000  2.5106  40.9629 ms   norm:6.9095   lr:7.5307e-04\n",
            "300/1000  2.3512  37.1890 ms   norm:7.1988   lr:6.8768e-04\n",
            "400/1000  1.9129  38.3921 ms   norm:5.2334   lr:6.0628e-04\n",
            "500/1000  1.8971  36.9473 ms   norm:5.1916   lr:5.1770e-04\n",
            "600/1000  1.8100  37.8897 ms   norm:3.7129   lr:4.3154e-04\n",
            "700/1000  1.9884  37.7500 ms   norm:3.8145   lr:3.5713e-04\n",
            "800/1000  1.8460  40.1011 ms   norm:3.9867   lr:3.0254e-04\n",
            "900/1000  1.8357  37.7097 ms   norm:3.8326   lr:2.7368e-04\n"
          ]
        }
      ]
    },
    {
      "cell_type": "code",
      "source": [
        "plt.figure(figsize=(6,4))\n",
        "plt.plot(losses)\n",
        "plt.show()"
      ],
      "metadata": {
        "colab": {
          "base_uri": "https://localhost:8080/",
          "height": 368
        },
        "id": "QDtKbLr4e-0E",
        "outputId": "9567500c-4f8e-425b-a734-c79583d72b6a"
      },
      "execution_count": null,
      "outputs": [
        {
          "output_type": "display_data",
          "data": {
            "text/plain": [
              "<Figure size 600x400 with 1 Axes>"
            ],
            "image/png": "[encoded data removed]"
          },
          "metadata": {}
        }
      ]
    },
    {
      "cell_type": "code",
      "source": [
        "plt.figure(figsize=(6,4))\n",
        "plt.plot(norms)\n",
        "plt.show()"
      ],
      "metadata": {
        "colab": {
          "base_uri": "https://localhost:8080/",
          "height": 368
        },
        "id": "Zqlnuw4We_oj",
        "outputId": "40ce258d-1874-42af-824f-56e4a3cbfffc"
      },
      "execution_count": null,
      "outputs": [
        {
          "output_type": "display_data",
          "data": {
            "text/plain": [
              "<Figure size 600x400 with 1 Axes>"
            ],
            "image/png": "[encoded data removed]"
          },
          "metadata": {}
        }
      ]
    },
    {
      "cell_type": "code",
      "source": [
        "plt.figure(figsize=(6,4))\n",
        "plt.plot(lrs)\n",
        "plt.show()"
      ],
      "metadata": {
        "colab": {
          "base_uri": "https://localhost:8080/",
          "height": 368
        },
        "id": "mjf3pr2OfZ18",
        "outputId": "aba7f679-05a5-49ee-9ce9-d12661a66a80"
      },
      "execution_count": null,
      "outputs": [
        {
          "output_type": "display_data",
          "data": {
            "text/plain": [
              "<Figure size 600x400 with 1 Axes>"
            ],
            "image/png": "[encoded data removed]"
          },
          "metadata": {}
        }
      ]
    },
    {
      "cell_type": "markdown",
      "source": [
        "## Accuracy for full val_data"
      ],
      "metadata": {
        "id": "oLCS3hVhfhGX"
      }
    },
    {
      "cell_type": "code",
      "source": [
        "torch.manual_seed(278)\n",
        "if torch.cuda.is_available():\n",
        "    torch.cuda.manual_seed(278)\n",
        "\n",
        "correct, total = 0, 0\n",
        "for xb, yb in val_data:\n",
        "    xb,yb = xb.to(device),yb.to(device)\n",
        "    logits = vit(xb)\n",
        "    preds = torch.argmax(logits, dim=-1)\n",
        "    correct += (preds == yb).sum().item()\n",
        "    total += yb.size(0)\n",
        "\n",
        "val_acc = correct / total\n",
        "print(f\"Validation accuracy: {val_acc:.4f}\")"
      ],
      "metadata": {
        "colab": {
          "base_uri": "https://localhost:8080/"
        },
        "id": "3UpEofRTfhf2",
        "outputId": "78c51ac5-d77e-4d7d-93a6-025317d405f1"
      },
      "execution_count": null,
      "outputs": [
        {
          "output_type": "stream",
          "name": "stdout",
          "text": [
            "Validation accuracy: 0.2956\n"
          ]
        }
      ]
    },
    {
      "cell_type": "markdown",
      "source": [
        "# TRY change Config and high max_iter"
      ],
      "metadata": {
        "id": "DXHVwg2_hWFQ"
      }
    },
    {
      "cell_type": "code",
      "source": [
        "@dataclass\n",
        "class Config:\n",
        "    num_classes: int = 10\n",
        "    img_size: int = 32         # For CIFAR\n",
        "    im_channels: int = 3\n",
        "    patch_size: int = 8        # try chaniging\n",
        "\n",
        "    n_head: int = 8\n",
        "    n_layer: int = 8\n",
        "    n_embd: int = 1024\n",
        "\n",
        "    dropout = 0.2\n",
        "\n",
        "    @property\n",
        "    def n_patch(self):\n",
        "        return (self.img_size//self.patch_size)**2"
      ],
      "metadata": {
        "id": "R9spV_2IghMO"
      },
      "execution_count": 8,
      "outputs": []
    },
    {
      "cell_type": "code",
      "source": [
        "model = ViT(Config())\n",
        "sum([p.numel() for p in model.parameters()])"
      ],
      "metadata": {
        "colab": {
          "base_uri": "https://localhost:8080/"
        },
        "id": "c7Rrtez0HNPa",
        "outputId": "a6c553de-0975-4737-a583-26e0879c7b72"
      },
      "execution_count": 9,
      "outputs": [
        {
          "output_type": "execute_result",
          "data": {
            "text/plain": [
              "101000586"
            ]
          },
          "metadata": {},
          "execution_count": 9
        }
      ]
    },
    {
      "cell_type": "code",
      "source": [
        "torch.manual_seed(278)\n",
        "if torch.cuda.is_available():\n",
        "    torch.cuda.manual_seed(278)\n",
        "\n",
        "\n",
        "\n",
        "\n",
        "vit = ViT(Config())\n",
        "vit = vit.to(device)\n",
        "vit = torch.compile(vit)\n",
        "\n",
        "\n",
        "#------------------------------------------------------------------------------4\n",
        "\n",
        "max_iter = 10000\n",
        "warm_up = max_iter *0.05\n",
        "max_lr = 6e-4\n",
        "min_lr = max_lr * 0.1\n",
        "\n",
        "\n",
        "\n",
        "def get_lr(i):\n",
        "\n",
        "    if i < warm_up:\n",
        "        return (max_lr/warm_up) * (i+1)\n",
        "\n",
        "    if i>max_iter :\n",
        "        return min_lr\n",
        "\n",
        "    # cosine decay\n",
        "    diff = max_lr - min_lr\n",
        "    steps = max_iter - warm_up\n",
        "    lr = (diff/2) * math.cos(i * (math.pi / steps)) + diff\n",
        "    return lr\n",
        "\n",
        "\n",
        "#------------------------------------------------------------------------------\n",
        "\n",
        "\n",
        "losses = torch.zeros((max_iter,))\n",
        "lrs = torch.zeros((max_iter,))\n",
        "norms = torch.zeros((max_iter,))\n",
        "\n",
        "\n",
        "\n",
        "# Optimizer\n",
        "use_fused = True if torch.cuda.is_available() else False\n",
        "optimizer = torch.optim.AdamW(vit.parameters(),lr = max_lr,weight_decay = 0.1,fused = use_fused)\n",
        "\n",
        "\n",
        "train_data_iter = iter(train_data)\n",
        "\n",
        "for i in range(max_iter):\n",
        "\n",
        "\n",
        "    t0 = time.time()\n",
        "\n",
        "    try:\n",
        "        xb,yb = next(train_data_iter)\n",
        "    except StopIteration:\n",
        "         train_data_iter = iter(train_data)   # reset\n",
        "         xb,yb = next(train_data_iter)\n",
        "\n",
        "    xb,yb = xb.to(device),yb.to(device)\n",
        "\n",
        "\n",
        "    logits , loss = vit(xb,yb)\n",
        "\n",
        "    optimizer.zero_grad()\n",
        "    loss.backward()\n",
        "\n",
        "\n",
        "    # LR Schedule\n",
        "    lr = get_lr(i)\n",
        "    for param_group in optimizer.param_groups:\n",
        "        param_group['lr'] = lr\n",
        "\n",
        "    # Gradient Clipping\n",
        "    norm = torch.nn.utils.clip_grad_norm_(vit.parameters(),1.0)\n",
        "\n",
        "    optimizer.step()\n",
        "\n",
        "    torch.cuda.synchronize() if torch.cuda.is_available() else None\n",
        "\n",
        "    t1 = time.time()\n",
        "    dt = (t1-t0) * 1000 # ms\n",
        "\n",
        "    losses[i] = loss.item()\n",
        "    lrs[i] = lr\n",
        "    norms[i] = norm\n",
        "\n",
        "    if i%1000 ==0 : print(f'{i}/{max_iter}  {loss.item():.4f}  {dt:.4f} ms   norm:{norm.item():.4f}   lr:{lr:.4e}')"
      ],
      "metadata": {
        "colab": {
          "base_uri": "https://localhost:8080/"
        },
        "id": "iSu6EGrchhR0",
        "outputId": "661d58e1-8b58-40d6-a040-fe1012c9ed93"
      },
      "execution_count": null,
      "outputs": [
        {
          "output_type": "stream",
          "name": "stdout",
          "text": [
            "0/10000  2.5523  187.0518 ms   norm:10.4012   lr:1.2000e-06\n",
            "1000/10000  1.9406  132.7546 ms   norm:5.6361   lr:7.9537e-04\n",
            "2000/10000  1.8547  131.8426 ms   norm:3.7117   lr:7.5307e-04\n",
            "3000/10000  1.9597  132.9753 ms   norm:10.2523   lr:6.8768e-04\n",
            "4000/10000  1.8329  135.6885 ms   norm:1.9468   lr:6.0628e-04\n",
            "5000/10000  1.8347  132.1881 ms   norm:2.7930   lr:5.1770e-04\n",
            "6000/10000  1.8799  131.2051 ms   norm:1.9949   lr:4.3154e-04\n",
            "7000/10000  1.7693  133.7743 ms   norm:2.2332   lr:3.5713e-04\n",
            "8000/10000  1.4898  135.7555 ms   norm:3.1812   lr:3.0254e-04\n",
            "9000/10000  1.7591  130.5749 ms   norm:2.8663   lr:2.7368e-04\n"
          ]
        }
      ]
    },
    {
      "cell_type": "code",
      "source": [
        "plt.figure(figsize=(6,4))\n",
        "plt.plot(losses)\n",
        "plt.show()"
      ],
      "metadata": {
        "colab": {
          "base_uri": "https://localhost:8080/",
          "height": 368
        },
        "id": "UBZuYKdgiKZa",
        "outputId": "2a9ec22a-076f-44b8-b87a-6848fcfeb4b9"
      },
      "execution_count": null,
      "outputs": [
        {
          "output_type": "display_data",
          "data": {
            "text/plain": [
              "<Figure size 600x400 with 1 Axes>"
            ],
            "image/png": "[encoded data removed]"
          },
          "metadata": {}
        }
      ]
    },
    {
      "cell_type": "code",
      "source": [
        "plt.figure(figsize=(6,4))\n",
        "plt.plot(norms)\n",
        "plt.show()"
      ],
      "metadata": {
        "colab": {
          "base_uri": "https://localhost:8080/",
          "height": 368
        },
        "id": "3xiu10Ixn_hc",
        "outputId": "029a9a89-165f-44db-d547-d3e27e29215c"
      },
      "execution_count": null,
      "outputs": [
        {
          "output_type": "display_data",
          "data": {
            "text/plain": [
              "<Figure size 600x400 with 1 Axes>"
            ],
            "image/png": "[encoded data removed]"
          },
          "metadata": {}
        }
      ]
    },
    {
      "cell_type": "code",
      "source": [
        "plt.figure(figsize=(6,4))\n",
        "plt.plot(lrs)\n",
        "plt.show()"
      ],
      "metadata": {
        "colab": {
          "base_uri": "https://localhost:8080/",
          "height": 368
        },
        "id": "9tYPEsZBoAem",
        "outputId": "67e6aed1-d7f2-478f-b117-e76cf4ec70d3"
      },
      "execution_count": null,
      "outputs": [
        {
          "output_type": "display_data",
          "data": {
            "text/plain": [
              "<Figure size 600x400 with 1 Axes>"
            ],
            "image/png": "[encoded data removed]"
          },
          "metadata": {}
        }
      ]
    },
    {
      "cell_type": "code",
      "source": [
        "torch.manual_seed(278)\n",
        "if torch.cuda.is_available():\n",
        "    torch.cuda.manual_seed(278)\n",
        "\n",
        "correct, total = 0, 0\n",
        "for xb, yb in val_data:\n",
        "    xb,yb = xb.to(device),yb.to(device)\n",
        "    logits = vit(xb)\n",
        "    preds = torch.argmax(logits, dim=-1)\n",
        "    correct += (preds == yb).sum().item()\n",
        "    total += yb.size(0)\n",
        "\n",
        "val_acc = correct / total\n",
        "print(f\"Validation accuracy: {val_acc:.4f}\")"
      ],
      "metadata": {
        "colab": {
          "base_uri": "https://localhost:8080/"
        },
        "id": "zuNJgagHhkbF",
        "outputId": "df6ed85b-4747-4a1f-a0d3-4b690bb3410c"
      },
      "execution_count": null,
      "outputs": [
        {
          "output_type": "stream",
          "name": "stdout",
          "text": [
            "Validation accuracy: 0.3665\n"
          ]
        }
      ]
    },
    {
      "cell_type": "markdown",
      "source": [
        "# Use Stategies to CIFAR10 Train"
      ],
      "metadata": {
        "id": "cymWTiaMKEgc"
      }
    },
    {
      "cell_type": "markdown",
      "source": [
        "## Data Augmentation"
      ],
      "metadata": {
        "id": "eZ6kYbTVOiV9"
      }
    },
    {
      "cell_type": "code",
      "source": [
        "# Training transforms with augmentation\n",
        "transform_train = transforms.Compose([\n",
        "    transforms.RandomCrop(32, padding=4),  # Crop with padding\n",
        "    transforms.RandomHorizontalFlip(),      # 50% chance to flip\n",
        "    transforms.AutoAugment(transforms.AutoAugmentPolicy.CIFAR10),\n",
        "    transforms.ToTensor(),\n",
        "    transforms.Normalize((0.4914, 0.4822, 0.4465), (0.2023, 0.1994, 0.2010))  # CIFAR-10 stats\n",
        "])\n",
        "\n",
        "# Val transforms - no augmentation just normalize\n",
        "transform_val = transforms.Compose([\n",
        "    transforms.ToTensor(),\n",
        "    transforms.Normalize((0.4914, 0.4822, 0.4465), (0.2023, 0.1994, 0.2010))\n",
        "])\n",
        "\n",
        "train_dataset = datasets.CIFAR10(root='data', train=True, download=True, transform=transform_train)\n",
        "val_dataset = datasets.CIFAR10(root='data', train=False, download=True, transform=transform_val)\n",
        "\n",
        "torch.manual_seed(278)\n",
        "if torch.cuda.is_available():\n",
        "    torch.cuda.manual_seed(278)\n",
        "\n",
        "batch_size = 128\n",
        "\n",
        "train_data = DataLoader(train_dataset, batch_size=batch_size, shuffle=True)\n",
        "val_data = DataLoader(val_dataset, batch_size=batch_size, shuffle=False)"
      ],
      "metadata": {
        "id": "Dso2clBzORcy"
      },
      "execution_count": 21,
      "outputs": []
    },
    {
      "cell_type": "code",
      "source": [
        "@dataclass\n",
        "class Config:\n",
        "    num_classes: int = 10\n",
        "    img_size: int = 32\n",
        "    im_channels: int = 3\n",
        "    patch_size: int = 4        # Changed from 8\n",
        "\n",
        "    n_head: int = 4\n",
        "    n_layer: int = 4           # reduced from 8\n",
        "    n_embd: int = 512          # Reduced from 1024\n",
        "\n",
        "    dropout = 0.1              # Reduced from 0.2\n",
        "\n",
        "    @property\n",
        "    def n_patch(self):\n",
        "        return (self.img_size//self.patch_size)**2"
      ],
      "metadata": {
        "id": "Mj9XJRh-KEBD"
      },
      "execution_count": 22,
      "outputs": []
    },
    {
      "cell_type": "code",
      "source": [
        "torch.manual_seed(278)\n",
        "if torch.cuda.is_available():\n",
        "    torch.cuda.manual_seed(278)\n",
        "\n",
        "\n",
        "vit = ViT(Config())\n",
        "\n",
        "n_params = sum([p.numel() for p in vit.parameters()])\n",
        "print(f'{n_params/10**6} M')\n"
      ],
      "metadata": {
        "colab": {
          "base_uri": "https://localhost:8080/"
        },
        "id": "2Qyfx-c2UTD8",
        "outputId": "ff7ffced-3506-4591-9652-93e71ccbf142"
      },
      "execution_count": 25,
      "outputs": [
        {
          "output_type": "stream",
          "name": "stdout",
          "text": [
            "12.67569 M\n"
          ]
        }
      ]
    },
    {
      "cell_type": "markdown",
      "source": [
        "## Automatic Mixed Presicion"
      ],
      "metadata": {
        "id": "jlG-44JlXHG-"
      }
    },
    {
      "cell_type": "code",
      "source": [
        "torch.manual_seed(278)\n",
        "if torch.cuda.is_available():\n",
        "    torch.cuda.manual_seed(278)\n",
        "\n",
        "\n",
        "vit = vit.to(device)\n",
        "vit = torch.compile(vit)\n",
        "#------------------------------------------------------------------------------4\n",
        "\n",
        "max_iter = 10000\n",
        "warm_up = max_iter *0.1\n",
        "max_lr = 3e-4\n",
        "min_lr = max_lr * 0.1\n",
        "\n",
        "\n",
        "\n",
        "def get_lr(i):\n",
        "\n",
        "    if i < warm_up:\n",
        "        return (max_lr/warm_up) * (i+1)\n",
        "\n",
        "    if i>max_iter :\n",
        "        return min_lr\n",
        "\n",
        "    # cosine decay\n",
        "    diff = max_lr - min_lr\n",
        "    steps = max_iter - warm_up\n",
        "    lr = (diff/2) * math.cos(i * (math.pi / steps)) + diff\n",
        "    return lr\n",
        "\n",
        "\n",
        "#------------------------------------------------------------------------------\n",
        "\n",
        "\n",
        "losses = torch.zeros((max_iter,))\n",
        "lrs = torch.zeros((max_iter,))\n",
        "norms = torch.zeros((max_iter,))\n",
        "\n",
        "\n",
        "\n",
        "# Optimizer\n",
        "use_fused = True if torch.cuda.is_available() else False\n",
        "optimizer = torch.optim.AdamW(vit.parameters(),lr = max_lr,weight_decay = 0.1,fused = use_fused)\n",
        "\n",
        "\n",
        "# Gradient Scaler\n",
        "scaler = torch.amp.GradScaler(device)\n",
        "\n",
        "train_data_iter = iter(train_data)\n",
        "\n",
        "for i in range(max_iter):\n",
        "\n",
        "\n",
        "    t0 = time.time()\n",
        "\n",
        "    try:\n",
        "        xb,yb = next(train_data_iter)\n",
        "    except StopIteration:\n",
        "         train_data_iter = iter(train_data)   # reset\n",
        "         xb,yb = next(train_data_iter)\n",
        "\n",
        "    xb,yb = xb.to(device),yb.to(device)\n",
        "\n",
        "    # Automatic Mixed Precision\n",
        "    with torch.autocast(device_type=device, dtype=torch.float16):   # FP16\n",
        "            logits , loss = vit(xb,yb)\n",
        "\n",
        "\n",
        "    optimizer.zero_grad()\n",
        "    scaler.scale(loss).backward()    # multiplies loss by a scale factor\n",
        "\n",
        "\n",
        "    # LR Schedule\n",
        "    lr = get_lr(i)\n",
        "    for param_group in optimizer.param_groups:\n",
        "        param_group['lr'] = lr\n",
        "\n",
        "    # Gradient Clipping\n",
        "    norm = torch.nn.utils.clip_grad_norm_(vit.parameters(),1.0)\n",
        "\n",
        "    scaler.step(optimizer)            # unscales gradients then call optimizer step\n",
        "    scaler.update()                   # adjusts the scale factor automatically each iteration\n",
        "\n",
        "    torch.cuda.synchronize() if torch.cuda.is_available() else None\n",
        "\n",
        "    t1 = time.time()\n",
        "    dt = (t1-t0) * 1000 # ms\n",
        "\n",
        "    losses[i] = loss.item()\n",
        "    lrs[i] = lr\n",
        "    norms[i] = norm\n",
        "\n",
        "    if i%100 ==0 : print(f'{i}/{max_iter}  {loss.item():.4f}  {dt:.4f} ms   norm:{norm.item():.4f}   lr:{lr:.4e}')"
      ],
      "metadata": {
        "id": "jloqGMEPiLpE",
        "colab": {
          "base_uri": "https://localhost:8080/"
        },
        "outputId": "8313dd5c-12a9-4fa5-df3f-73166491b2bf"
      },
      "execution_count": 26,
      "outputs": [
        {
          "output_type": "stream",
          "name": "stdout",
          "text": [
            "0/10000  2.4279  27325.5315 ms   norm:258095.5469   lr:3.0000e-07\n",
            "100/10000  2.2323  132.4365 ms   norm:97890.0156   lr:3.0300e-05\n",
            "200/10000  2.1970  129.8618 ms   norm:132378.7188   lr:6.0300e-05\n",
            "300/10000  2.1507  126.5490 ms   norm:193911.8438   lr:9.0300e-05\n",
            "400/10000  2.1040  175.8697 ms   norm:102937.4297   lr:1.2030e-04\n",
            "500/10000  1.9755  130.6367 ms   norm:183109.0625   lr:1.5030e-04\n",
            "600/10000  1.9071  263.5031 ms   norm:176709.8750   lr:1.8030e-04\n",
            "700/10000  1.9249  133.0395 ms   norm:240990.4844   lr:2.1030e-04\n",
            "800/10000  1.8831  139.6286 ms   norm:217091.4531   lr:2.4030e-04\n",
            "900/10000  1.6804  135.7474 ms   norm:218510.4219   lr:2.7030e-04\n",
            "1000/10000  1.5870  128.8788 ms   norm:176226.6250   lr:3.9686e-04\n",
            "1100/10000  1.6624  191.1914 ms   norm:227722.8594   lr:3.9517e-04\n",
            "1200/10000  1.7567  130.1408 ms   norm:249331.7656   lr:3.9333e-04\n",
            "1300/10000  1.6633  128.4685 ms   norm:196759.9531   lr:3.9134e-04\n",
            "1400/10000  1.5377  127.6836 ms   norm:140863.8125   lr:3.8920e-04\n",
            "1500/10000  1.6592  131.9225 ms   norm:220900.4531   lr:3.8691e-04\n",
            "1600/10000  1.7629  127.7316 ms   norm:205898.0625   lr:3.8449e-04\n",
            "1700/10000  1.7313  129.9248 ms   norm:235436.3750   lr:3.8192e-04\n",
            "1800/10000  1.5822  163.4111 ms   norm:194429.2500   lr:3.7922e-04\n",
            "1900/10000  1.4670  133.4674 ms   norm:175443.3750   lr:3.7638e-04\n",
            "2000/10000  1.5734  137.9087 ms   norm:411259.9062   lr:3.7342e-04\n",
            "2100/10000  1.5657  134.9797 ms   norm:336949.4062   lr:3.7032e-04\n",
            "2200/10000  1.4801  129.8151 ms   norm:318546.3750   lr:3.6711e-04\n",
            "2300/10000  1.4710  130.4381 ms   norm:368118.6875   lr:3.6378e-04\n",
            "2400/10000  1.4688  125.8371 ms   norm:336231.9375   lr:3.6033e-04\n",
            "2500/10000  1.4348  171.5620 ms   norm:308955.2812   lr:3.5678e-04\n",
            "2600/10000  1.3785  134.2511 ms   norm:346032.2812   lr:3.5311e-04\n",
            "2700/10000  1.5408  169.0533 ms   norm:423729.3750   lr:3.4935e-04\n",
            "2800/10000  1.3279  125.4377 ms   norm:254438.6094   lr:3.4549e-04\n",
            "2900/10000  1.5368  135.0443 ms   norm:463812.4688   lr:3.4154e-04\n",
            "3000/10000  1.3879  125.2906 ms   norm:394951.8438   lr:3.3750e-04\n",
            "3100/10000  1.4263  131.3841 ms   norm:335650.7188   lr:3.3338e-04\n",
            "3200/10000  1.5279  170.5966 ms   norm:334784.9062   lr:3.2918e-04\n",
            "3300/10000  1.4683  135.9069 ms   norm:263234.5938   lr:3.2491e-04\n",
            "3400/10000  1.3082  127.6350 ms   norm:348953.0938   lr:3.2057e-04\n",
            "3500/10000  1.3872  126.2033 ms   norm:333239.6250   lr:3.1617e-04\n",
            "3600/10000  1.3884  134.1827 ms   norm:330062.0000   lr:3.1172e-04\n",
            "3700/10000  1.4473  128.2625 ms   norm:329408.2812   lr:3.0721e-04\n",
            "3800/10000  1.3227  128.5024 ms   norm:368021.1250   lr:3.0266e-04\n",
            "3900/10000  1.4444  130.4226 ms   norm:379888.7188   lr:2.9807e-04\n",
            "4000/10000  1.2549  179.9159 ms   norm:806217.1875   lr:2.9344e-04\n",
            "4100/10000  1.3147  130.6453 ms   norm:278014.8438   lr:2.8879e-04\n",
            "4200/10000  1.3372  130.4612 ms   norm:388165.9688   lr:2.8411e-04\n",
            "4300/10000  1.2788  87.2033 ms   norm:459957.9062   lr:2.7942e-04\n",
            "4400/10000  1.4004  123.7047 ms   norm:364235.8438   lr:2.7471e-04\n",
            "4500/10000  1.2351  123.5621 ms   norm:432052.2188   lr:2.7000e-04\n",
            "4600/10000  1.2952  126.3120 ms   norm:332615.8750   lr:2.6529e-04\n",
            "4700/10000  1.4976  186.9733 ms   norm:333402.0625   lr:2.6058e-04\n",
            "4800/10000  1.3796  132.4413 ms   norm:287779.0000   lr:2.5589e-04\n",
            "4900/10000  1.3764  133.6737 ms   norm:396643.4688   lr:2.5121e-04\n",
            "5000/10000  1.2680  126.6418 ms   norm:383338.0000   lr:2.4656e-04\n",
            "5100/10000  1.3876  128.6466 ms   norm:399486.6562   lr:2.4193e-04\n",
            "5200/10000  1.4684  128.0112 ms   norm:397686.7188   lr:2.3734e-04\n",
            "5300/10000  1.2603  133.3342 ms   norm:330292.0625   lr:2.3279e-04\n",
            "5400/10000  1.5981  166.4546 ms   norm:385544.5625   lr:2.2828e-04\n",
            "5500/10000  1.2489  147.4957 ms   norm:375086.7500   lr:2.2383e-04\n",
            "5600/10000  1.2571  127.2566 ms   norm:330010.0625   lr:2.1943e-04\n",
            "5700/10000  1.4061  132.4472 ms   norm:425772.0000   lr:2.1509e-04\n",
            "5800/10000  1.2213  128.2346 ms   norm:486445.6875   lr:2.1082e-04\n",
            "5900/10000  1.3280  130.8744 ms   norm:342889.1562   lr:2.0662e-04\n",
            "6000/10000  1.2121  127.8131 ms   norm:438442.4688   lr:2.0250e-04\n",
            "6100/10000  1.2534  180.2490 ms   norm:694068.5625   lr:1.9846e-04\n",
            "6200/10000  1.1566  132.5636 ms   norm:767533.0625   lr:1.9451e-04\n",
            "6300/10000  1.1977  128.4263 ms   norm:746076.0000   lr:1.9065e-04\n",
            "6400/10000  1.3502  134.0232 ms   norm:811757.6250   lr:1.8689e-04\n",
            "6500/10000  1.3136  133.0218 ms   norm:749774.0625   lr:1.8322e-04\n",
            "6600/10000  1.3340  130.0769 ms   norm:916412.5000   lr:1.7967e-04\n",
            "6700/10000  1.4298  194.9332 ms   norm:791303.4375   lr:1.7622e-04\n",
            "6800/10000  1.2373  136.0788 ms   norm:818879.9375   lr:1.7289e-04\n",
            "6900/10000  1.4424  149.1690 ms   norm:940073.2500   lr:1.6968e-04\n",
            "7000/10000  1.3562  132.2629 ms   norm:798131.7500   lr:1.6658e-04\n",
            "7100/10000  1.2590  128.9074 ms   norm:766074.0625   lr:1.6362e-04\n",
            "7200/10000  1.2570  140.6558 ms   norm:873887.9375   lr:1.6078e-04\n",
            "7300/10000  1.2168  129.1528 ms   norm:874974.8125   lr:1.5808e-04\n",
            "7400/10000  1.2439  387.6071 ms   norm:677121.8125   lr:1.5551e-04\n",
            "7500/10000  1.2192  128.0549 ms   norm:956867.5000   lr:1.5309e-04\n",
            "7600/10000  1.3023  129.3638 ms   norm:888774.0000   lr:1.5080e-04\n",
            "7700/10000  1.2845  128.4890 ms   norm:857447.3125   lr:1.4866e-04\n",
            "7800/10000  1.2151  129.5202 ms   norm:744999.0000   lr:1.4667e-04\n",
            "7900/10000  1.3431  185.4236 ms   norm:1099866.0000   lr:1.4483e-04\n",
            "8000/10000  1.2490  128.7029 ms   norm:469348.0938   lr:1.4314e-04\n",
            "8100/10000  1.2533  147.2390 ms   norm:535662.0625   lr:1.4161e-04\n",
            "8200/10000  1.3423  128.9511 ms   norm:362560.9062   lr:1.4023e-04\n",
            "8300/10000  1.2966  129.9193 ms   norm:463717.5312   lr:1.3901e-04\n",
            "8400/10000  1.1897  142.9498 ms   norm:347233.9062   lr:1.3795e-04\n",
            "8500/10000  1.2161  130.3618 ms   norm:442140.7500   lr:1.3705e-04\n",
            "8600/10000  1.3143  128.9597 ms   norm:364206.6562   lr:1.3631e-04\n",
            "8700/10000  1.1527  190.2621 ms   norm:423090.6875   lr:1.3574e-04\n",
            "8800/10000  1.3921  128.8004 ms   norm:470355.5625   lr:1.3533e-04\n",
            "8900/10000  1.2226  128.0539 ms   norm:475218.8750   lr:1.3508e-04\n",
            "9000/10000  1.2624  127.7118 ms   norm:485413.4375   lr:1.3500e-04\n",
            "9100/10000  1.4049  136.4555 ms   norm:422169.5625   lr:1.3508e-04\n",
            "9200/10000  1.2464  139.4420 ms   norm:387054.4375   lr:1.3533e-04\n",
            "9300/10000  1.1008  164.9494 ms   norm:417613.7812   lr:1.3574e-04\n",
            "9400/10000  1.2119  136.7428 ms   norm:425827.2188   lr:1.3631e-04\n",
            "9500/10000  1.1485  128.3889 ms   norm:496879.4375   lr:1.3705e-04\n",
            "9600/10000  1.0940  129.1959 ms   norm:424232.7812   lr:1.3795e-04\n",
            "9700/10000  1.2520  127.5260 ms   norm:465371.5312   lr:1.3901e-04\n",
            "9800/10000  1.3177  132.9041 ms   norm:482720.0000   lr:1.4023e-04\n",
            "9900/10000  1.3293  137.9173 ms   norm:454690.4062   lr:1.4161e-04\n"
          ]
        }
      ]
    },
    {
      "cell_type": "markdown",
      "source": [
        "## Val Accu"
      ],
      "metadata": {
        "id": "tL116WqHPtfj"
      }
    },
    {
      "cell_type": "code",
      "source": [
        "torch.manual_seed(278)\n",
        "if torch.cuda.is_available():\n",
        "    torch.cuda.manual_seed(278)\n",
        "\n",
        "correct, total = 0, 0\n",
        "for xb, yb in val_data:\n",
        "    xb,yb = xb.to(device),yb.to(device)\n",
        "    logits = vit(xb)\n",
        "    preds = torch.argmax(logits, dim=-1)\n",
        "    correct += (preds == yb).sum().item()\n",
        "    total += yb.size(0)\n",
        "\n",
        "val_acc = correct / total\n",
        "print(f\"Validation accuracy: {val_acc:.4f}\")"
      ],
      "metadata": {
        "colab": {
          "base_uri": "https://localhost:8080/"
        },
        "id": "ISOUsO9wPtK8",
        "outputId": "ccd03562-d265-4722-f9cc-51f481bb176b"
      },
      "execution_count": 29,
      "outputs": [
        {
          "output_type": "stream",
          "name": "stdout",
          "text": [
            "Validation accuracy: 0.6481\n"
          ]
        }
      ]
    },
    {
      "cell_type": "code",
      "source": [
        "plt.figure(figsize=(6,4))\n",
        "plt.plot(losses)\n",
        "plt.show()"
      ],
      "metadata": {
        "colab": {
          "base_uri": "https://localhost:8080/",
          "height": 368
        },
        "id": "U2sErAFPbd_C",
        "outputId": "675f8b00-2930-4567-a676-af6018a25727"
      },
      "execution_count": 27,
      "outputs": [
        {
          "output_type": "display_data",
          "data": {
            "text/plain": [
              "<Figure size 600x400 with 1 Axes>"
            ],
            "image/png": "[encoded data removed]"
          },
          "metadata": {}
        }
      ]
    },
    {
      "cell_type": "code",
      "source": [
        "plt.figure(figsize=(6,4))\n",
        "plt.plot(norms)\n",
        "plt.show()"
      ],
      "metadata": {
        "colab": {
          "base_uri": "https://localhost:8080/",
          "height": 383
        },
        "id": "fI7KQy1vbncQ",
        "outputId": "69d5aee7-5693-4436-e0c8-949e6e2ddcd9"
      },
      "execution_count": 28,
      "outputs": [
        {
          "output_type": "display_data",
          "data": {
            "text/plain": [
              "<Figure size 600x400 with 1 Axes>"
            ],
            "image/png": "[encoded data removed]"
          },
          "metadata": {}
        }
      ]
    },
    {
      "cell_type": "code",
      "source": [
        "plt.figure(figsize=(6,4))\n",
        "plt.plot(lrs)\n",
        "plt.show()"
      ],
      "metadata": {
        "colab": {
          "base_uri": "https://localhost:8080/",
          "height": 368
        },
        "id": "NMOn8IaTc73e",
        "outputId": "4e44630c-4766-4356-8fcf-c0edd90e18e3"
      },
      "execution_count": 30,
      "outputs": [
        {
          "output_type": "display_data",
          "data": {
            "text/plain": [
              "<Figure size 600x400 with 1 Axes>"
            ],
            "image/png": "[encoded data removed]"
          },
          "metadata": {}
        }
      ]
    },
    {
      "cell_type": "markdown",
      "source": [
        "## Save model for later"
      ],
      "metadata": {
        "id": "4bMRRvxFfejS"
      }
    },
    {
      "cell_type": "code",
      "source": [
        "from google.colab import drive\n",
        "drive.mount('/content/drive')"
      ],
      "metadata": {
        "colab": {
          "base_uri": "https://localhost:8080/"
        },
        "id": "cL3RYUgDfjuk",
        "outputId": "b2eec62c-f2b6-45cf-d380-e34cadf68406"
      },
      "execution_count": 31,
      "outputs": [
        {
          "output_type": "stream",
          "name": "stdout",
          "text": [
            "Mounted at /content/drive\n"
          ]
        }
      ]
    },
    {
      "cell_type": "code",
      "source": [
        "import os\n",
        "save_dir = '/content/drive/MyDrive/nanoViT'\n",
        "os.makedirs(save_dir, exist_ok=True)\n",
        "\n",
        "# During/after training\n",
        "def save_model(model, optimizer, step, val_acc, config, name='checkpoint'):\n",
        "    checkpoint = {\n",
        "        'model_state_dict': model.state_dict(),\n",
        "        'optimizer_state_dict': optimizer.state_dict(),\n",
        "        'step': step,\n",
        "        'val_accuracy': val_acc,\n",
        "        'config': vars(config)\n",
        "    }\n",
        "    save_path = f'{save_dir}/{name}.pth'\n",
        "    torch.save(checkpoint, save_path)\n",
        "    print(f\"Saved to: {save_path}\")\n",
        "\n",
        "\n",
        "\n",
        "# Save final model\n",
        "save_model(vit, optimizer, max_iter, val_acc, Config(), name='vit_final')"
      ],
      "metadata": {
        "colab": {
          "base_uri": "https://localhost:8080/"
        },
        "id": "JmwA5NW_ehx6",
        "outputId": "8cd5b5f9-da7e-4ac8-a82d-15d0ef4354da"
      },
      "execution_count": 32,
      "outputs": [
        {
          "output_type": "stream",
          "name": "stdout",
          "text": [
            "Saved to: /content/drive/MyDrive/nanoViT/vit_final.pth\n"
          ]
        }
      ]
    },
    {
      "cell_type": "markdown",
      "source": [
        "# Load Model"
      ],
      "metadata": {
        "id": "oD3MU0dhi2du"
      }
    },
    {
      "cell_type": "code",
      "source": [
        "# Load checkpoint\n",
        "checkpoint = torch.load('/content/drive/MyDrive/nanoViT/vit_final.pth')\n",
        "\n",
        "# Remove '_orig_mod.' prefix from state_dict keys\n",
        "state_dict = checkpoint['model_state_dict']\n",
        "new_state_dict = {}\n",
        "for key, value in state_dict.items():\n",
        "    new_key = key.replace('_orig_mod.', '')  # Remove the prefix\n",
        "    new_state_dict[new_key] = value\n",
        "\n",
        "# Load cleaned state_dict\n",
        "config = Config(**checkpoint['config'])\n",
        "model_s = ViT(config)\n",
        "model_s.load_state_dict(new_state_dict)"
      ],
      "metadata": {
        "colab": {
          "base_uri": "https://localhost:8080/"
        },
        "id": "5aqNS_qsf-J6",
        "outputId": "5fb3f944-7d6c-4dff-a068-581b7b7f2c94"
      },
      "execution_count": 40,
      "outputs": [
        {
          "output_type": "execute_result",
          "data": {
            "text/plain": [
              "<All keys matched successfully>"
            ]
          },
          "metadata": {},
          "execution_count": 40
        }
      ]
    },
    {
      "cell_type": "code",
      "source": [
        "# Validation Accuracy\n",
        "\n",
        "torch.manual_seed(278)\n",
        "if torch.cuda.is_available():\n",
        "    torch.cuda.manual_seed(278)\n",
        "\n",
        "correct, total = 0, 0\n",
        "model_s.eval()\n",
        "model_s = model_s.to(device)\n",
        "with torch.no_grad():\n",
        "    for xb, yb in val_data:\n",
        "        xb,yb = xb.to(device),yb.to(device)\n",
        "        logits = model_s(xb)\n",
        "        preds = torch.argmax(logits, dim=-1)\n",
        "        correct += (preds == yb).sum().item()\n",
        "        total += yb.size(0)\n",
        "\n",
        "val_acc = correct / total\n",
        "print(f\"Validation accuracy: {val_acc:.4f}\")"
      ],
      "metadata": {
        "colab": {
          "base_uri": "https://localhost:8080/"
        },
        "id": "zIRWy4C3gi2R",
        "outputId": "e93cd1f5-26ca-4e9b-ea49-e75d2fe7494a"
      },
      "execution_count": 41,
      "outputs": [
        {
          "output_type": "stream",
          "name": "stdout",
          "text": [
            "Validation accuracy: 0.6516\n"
          ]
        }
      ]
    },
    {
      "cell_type": "markdown",
      "source": [
        "# Train few steps for load model"
      ],
      "metadata": {
        "id": "qBeFeSrmi6cW"
      }
    },
    {
      "cell_type": "code",
      "source": [
        "# Load checkpoint\n",
        "checkpoint = torch.load('/content/drive/MyDrive/nanoViT/vit_final.pth')\n",
        "\n",
        "# Remove '_orig_mod.' prefix from state_dict keys\n",
        "state_dict = checkpoint['model_state_dict']\n",
        "new_state_dict = {}\n",
        "for key, value in state_dict.items():\n",
        "    new_key = key.replace('_orig_mod.', '')  # Remove the prefix\n",
        "    new_state_dict[new_key] = value\n",
        "\n",
        "# Load cleaned state_dict\n",
        "config = Config(**checkpoint['config'])\n",
        "model = ViT(config)\n",
        "model.load_state_dict(new_state_dict)"
      ],
      "metadata": {
        "colab": {
          "base_uri": "https://localhost:8080/"
        },
        "id": "jQj4vIJGjK_k",
        "outputId": "1f2c50e3-5227-4056-c561-786baa2b0503"
      },
      "execution_count": 42,
      "outputs": [
        {
          "output_type": "execute_result",
          "data": {
            "text/plain": [
              "<All keys matched successfully>"
            ]
          },
          "metadata": {},
          "execution_count": 42
        }
      ]
    },
    {
      "cell_type": "code",
      "source": [
        "torch.manual_seed(278)\n",
        "if torch.cuda.is_available():\n",
        "    torch.cuda.manual_seed(278)\n",
        "\n",
        "\n",
        "vit = model.to(device)\n",
        "vit = torch.compile(vit)\n",
        "#------------------------------------------------------------------------------4\n",
        "\n",
        "max_iter = 1000\n",
        "warm_up = max_iter *0.1\n",
        "max_lr = 3e-4\n",
        "min_lr = max_lr * 0.1\n",
        "\n",
        "\n",
        "\n",
        "def get_lr(i):\n",
        "\n",
        "    if i < warm_up:\n",
        "        return (max_lr/warm_up) * (i+1)\n",
        "\n",
        "    if i>max_iter :\n",
        "        return min_lr\n",
        "\n",
        "    # cosine decay\n",
        "    diff = max_lr - min_lr\n",
        "    steps = max_iter - warm_up\n",
        "    lr = (diff/2) * math.cos(i * (math.pi / steps)) + diff\n",
        "    return lr\n",
        "\n",
        "\n",
        "#------------------------------------------------------------------------------\n",
        "\n",
        "\n",
        "losses = torch.zeros((max_iter,))\n",
        "lrs = torch.zeros((max_iter,))\n",
        "norms = torch.zeros((max_iter,))\n",
        "\n",
        "\n",
        "\n",
        "# Optimizer\n",
        "use_fused = True if torch.cuda.is_available() else False\n",
        "optimizer = torch.optim.AdamW(vit.parameters(),lr = max_lr,weight_decay = 0.1,fused = use_fused)\n",
        "\n",
        "\n",
        "# Gradient Scaler\n",
        "scaler = torch.amp.GradScaler(device)\n",
        "\n",
        "train_data_iter = iter(train_data)\n",
        "\n",
        "for i in range(max_iter):\n",
        "\n",
        "\n",
        "    t0 = time.time()\n",
        "\n",
        "    try:\n",
        "        xb,yb = next(train_data_iter)\n",
        "    except StopIteration:\n",
        "         train_data_iter = iter(train_data)   # reset\n",
        "         xb,yb = next(train_data_iter)\n",
        "\n",
        "    xb,yb = xb.to(device),yb.to(device)\n",
        "\n",
        "    # Automatic Mixed Precision\n",
        "    with torch.autocast(device_type=device, dtype=torch.float16):   # FP16\n",
        "            logits , loss = vit(xb,yb)\n",
        "\n",
        "\n",
        "    optimizer.zero_grad()\n",
        "    scaler.scale(loss).backward()    # multiplies loss by a scale factor\n",
        "\n",
        "\n",
        "    # LR Schedule\n",
        "    lr = get_lr(i)\n",
        "    for param_group in optimizer.param_groups:\n",
        "        param_group['lr'] = lr\n",
        "\n",
        "    # Gradient Clipping\n",
        "    norm = torch.nn.utils.clip_grad_norm_(vit.parameters(),1.0)\n",
        "\n",
        "    scaler.step(optimizer)            # unscales gradients then call optimizer step\n",
        "    scaler.update()                   # adjusts the scale factor automatically each iteration\n",
        "\n",
        "    torch.cuda.synchronize() if torch.cuda.is_available() else None\n",
        "\n",
        "    t1 = time.time()\n",
        "    dt = (t1-t0) * 1000 # ms\n",
        "\n",
        "    losses[i] = loss.item()\n",
        "    lrs[i] = lr\n",
        "    norms[i] = norm\n",
        "\n",
        "    if i%100 ==0 : print(f'{i}/{max_iter}  {loss.item():.4f}  {dt:.4f} ms   norm:{norm.item():.4f}   lr:{lr:.4e}')"
      ],
      "metadata": {
        "colab": {
          "base_uri": "https://localhost:8080/"
        },
        "id": "CnmO96C4iwJa",
        "outputId": "9c5840d7-866c-49db-877b-24d13c454c35"
      },
      "execution_count": 43,
      "outputs": [
        {
          "output_type": "stream",
          "name": "stdout",
          "text": [
            "0/1000  1.2557  159.5421 ms   norm:215121.2344   lr:3.0000e-06\n",
            "100/1000  1.3124  127.2840 ms   norm:230219.7031   lr:3.9686e-04\n",
            "200/1000  1.2100  131.4182 ms   norm:168558.4219   lr:3.7342e-04\n",
            "300/1000  1.3111  183.3634 ms   norm:181779.6875   lr:3.3750e-04\n",
            "400/1000  1.2995  163.9791 ms   norm:191990.2969   lr:2.9344e-04\n",
            "500/1000  1.0892  188.7302 ms   norm:159038.8438   lr:2.4656e-04\n",
            "600/1000  1.2909  137.3484 ms   norm:195969.7344   lr:2.0250e-04\n",
            "700/1000  1.3817  135.3993 ms   norm:221826.7656   lr:1.6658e-04\n",
            "800/1000  1.1829  142.9117 ms   norm:189754.6406   lr:1.4314e-04\n",
            "900/1000  1.2082  128.4082 ms   norm:239005.7188   lr:1.3500e-04\n"
          ]
        }
      ]
    },
    {
      "cell_type": "code",
      "source": [
        "# Validation Accuracy\n",
        "\n",
        "torch.manual_seed(278)\n",
        "if torch.cuda.is_available():\n",
        "    torch.cuda.manual_seed(278)\n",
        "\n",
        "correct, total = 0, 0\n",
        "vit.eval()\n",
        "vit = vit.to(device)\n",
        "with torch.no_grad():\n",
        "    for xb, yb in val_data:\n",
        "        xb,yb = xb.to(device),yb.to(device)\n",
        "        logits = vit(xb)\n",
        "        preds = torch.argmax(logits, dim=-1)\n",
        "        correct += (preds == yb).sum().item()\n",
        "        total += yb.size(0)\n",
        "\n",
        "val_acc = correct / total\n",
        "print(f\"Validation accuracy: {val_acc:.4f}\")"
      ],
      "metadata": {
        "colab": {
          "base_uri": "https://localhost:8080/"
        },
        "id": "5LILiNj5jaYn",
        "outputId": "d3790bc5-90f4-4d78-d15c-f99a30f91656"
      },
      "execution_count": 45,
      "outputs": [
        {
          "output_type": "stream",
          "name": "stdout",
          "text": [
            "Validation accuracy: 0.6573\n"
          ]
        }
      ]
    },
    {
      "cell_type": "code",
      "source": [
        "plt.figure(figsize=(6,4))\n",
        "plt.plot(losses)\n",
        "plt.show()"
      ],
      "metadata": {
        "colab": {
          "base_uri": "https://localhost:8080/",
          "height": 368
        },
        "id": "DcYMTU3hkNxU",
        "outputId": "c17fa2ae-cc95-48e3-cf17-373d86860898"
      },
      "execution_count": 46,
      "outputs": [
        {
          "output_type": "display_data",
          "data": {
            "text/plain": [
              "<Figure size 600x400 with 1 Axes>"
            ],
            "image/png": "[encoded data removed]"
          },
          "metadata": {}
        }
      ]
    },
    {
      "cell_type": "code",
      "source": [],
      "metadata": {
        "id": "adCNshJekhh6"
      },
      "execution_count": null,
      "outputs": []
    }
  ]
}